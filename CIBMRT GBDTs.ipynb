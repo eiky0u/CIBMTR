{
 "cells": [
  {
   "cell_type": "markdown",
   "id": "4dde703e",
   "metadata": {
    "_kg_hide-input": true,
    "papermill": {
     "duration": 0.012528,
     "end_time": "2025-01-27T09:04:08.195636",
     "exception": false,
     "start_time": "2025-01-27T09:04:08.183108",
     "status": "completed"
    },
    "tags": []
   },
   "source": [
    "# Loading Libraries for Metric"
   ]
  },
  {
   "cell_type": "code",
   "execution_count": 1,
   "id": "9cb11587",
   "metadata": {
    "execution": {
     "iopub.execute_input": "2025-01-27T09:04:08.220693Z",
     "iopub.status.busy": "2025-01-27T09:04:08.220199Z",
     "iopub.status.idle": "2025-01-27T09:04:08.227334Z",
     "shell.execute_reply": "2025-01-27T09:04:08.226127Z"
    },
    "papermill": {
     "duration": 0.021677,
     "end_time": "2025-01-27T09:04:08.229185",
     "exception": false,
     "start_time": "2025-01-27T09:04:08.207508",
     "status": "completed"
    },
    "tags": []
   },
   "outputs": [],
   "source": [
    "import warnings\n",
    "warnings.filterwarnings(\"ignore\")"
   ]
  },
  {
   "cell_type": "code",
   "execution_count": 2,
   "id": "4eae184b",
   "metadata": {
    "execution": {
     "iopub.execute_input": "2025-01-27T09:04:08.254504Z",
     "iopub.status.busy": "2025-01-27T09:04:08.254050Z",
     "iopub.status.idle": "2025-01-27T09:04:32.644286Z",
     "shell.execute_reply": "2025-01-27T09:04:32.642909Z"
    },
    "papermill": {
     "duration": 24.406391,
     "end_time": "2025-01-27T09:04:32.647340",
     "exception": false,
     "start_time": "2025-01-27T09:04:08.240949",
     "status": "completed"
    },
    "tags": []
   },
   "outputs": [
    {
     "name": "stdout",
     "output_type": "stream",
     "text": [
      "Processing /kaggle/input/pip-install-lifelines/autograd-1.7.0-py3-none-any.whl\r\n",
      "Requirement already satisfied: numpy in /usr/local/lib/python3.10/dist-packages (from autograd==1.7.0) (1.26.4)\r\n",
      "autograd is already installed with the same version as the provided wheel. Use --force-reinstall to force an installation of the wheel.\r\n",
      "Processing /kaggle/input/pip-install-lifelines/autograd-gamma-0.5.0.tar.gz\r\n",
      "  Preparing metadata (setup.py) ... \u001b[?25l\u001b[?25hdone\r\n",
      "Requirement already satisfied: autograd>=1.2.0 in /usr/local/lib/python3.10/dist-packages (from autograd-gamma==0.5.0) (1.7.0)\r\n",
      "Requirement already satisfied: scipy>=1.2.0 in /usr/local/lib/python3.10/dist-packages (from autograd-gamma==0.5.0) (1.13.1)\r\n",
      "Requirement already satisfied: numpy in /usr/local/lib/python3.10/dist-packages (from autograd>=1.2.0->autograd-gamma==0.5.0) (1.26.4)\r\n",
      "Building wheels for collected packages: autograd-gamma\r\n",
      "  Building wheel for autograd-gamma (setup.py) ... \u001b[?25l\u001b[?25hdone\r\n",
      "  Created wheel for autograd-gamma: filename=autograd_gamma-0.5.0-py3-none-any.whl size=4031 sha256=b0970b8521fe8cafdd62eb7d74a2a01a44309470e70e067a976c7c2600af86ec\r\n",
      "  Stored in directory: /root/.cache/pip/wheels/6b/b5/e0/4c79e15c0b5f2c15ecf613c720bb20daab20a666eb67135155\r\n",
      "Successfully built autograd-gamma\r\n",
      "Installing collected packages: autograd-gamma\r\n",
      "Successfully installed autograd-gamma-0.5.0\r\n",
      "Processing /kaggle/input/pip-install-lifelines/interface_meta-1.3.0-py3-none-any.whl\r\n",
      "Installing collected packages: interface-meta\r\n",
      "Successfully installed interface-meta-1.3.0\r\n",
      "Processing /kaggle/input/pip-install-lifelines/formulaic-1.0.2-py3-none-any.whl\r\n",
      "Requirement already satisfied: interface-meta>=1.2.0 in /usr/local/lib/python3.10/dist-packages (from formulaic==1.0.2) (1.3.0)\r\n",
      "Requirement already satisfied: numpy>=1.16.5 in /usr/local/lib/python3.10/dist-packages (from formulaic==1.0.2) (1.26.4)\r\n",
      "Requirement already satisfied: pandas>=1.0 in /usr/local/lib/python3.10/dist-packages (from formulaic==1.0.2) (2.1.4)\r\n",
      "Requirement already satisfied: scipy>=1.6 in /usr/local/lib/python3.10/dist-packages (from formulaic==1.0.2) (1.13.1)\r\n",
      "Requirement already satisfied: typing-extensions>=4.2.0 in /usr/local/lib/python3.10/dist-packages (from formulaic==1.0.2) (4.12.2)\r\n",
      "Requirement already satisfied: wrapt>=1.0 in /usr/local/lib/python3.10/dist-packages (from formulaic==1.0.2) (1.16.0)\r\n",
      "Requirement already satisfied: python-dateutil>=2.8.2 in /usr/local/lib/python3.10/dist-packages (from pandas>=1.0->formulaic==1.0.2) (2.8.2)\r\n",
      "Requirement already satisfied: pytz>=2020.1 in /usr/local/lib/python3.10/dist-packages (from pandas>=1.0->formulaic==1.0.2) (2024.2)\r\n",
      "Requirement already satisfied: tzdata>=2022.1 in /usr/local/lib/python3.10/dist-packages (from pandas>=1.0->formulaic==1.0.2) (2024.1)\r\n",
      "Requirement already satisfied: six>=1.5 in /usr/local/lib/python3.10/dist-packages (from python-dateutil>=2.8.2->pandas>=1.0->formulaic==1.0.2) (1.16.0)\r\n",
      "Installing collected packages: formulaic\r\n",
      "Successfully installed formulaic-1.0.2\r\n",
      "Processing /kaggle/input/pip-install-lifelines/lifelines-0.30.0-py3-none-any.whl\r\n",
      "Requirement already satisfied: numpy>=1.14.0 in /usr/local/lib/python3.10/dist-packages (from lifelines==0.30.0) (1.26.4)\r\n",
      "Requirement already satisfied: scipy>=1.7.0 in /usr/local/lib/python3.10/dist-packages (from lifelines==0.30.0) (1.13.1)\r\n",
      "Requirement already satisfied: pandas>=2.1 in /usr/local/lib/python3.10/dist-packages (from lifelines==0.30.0) (2.1.4)\r\n",
      "Requirement already satisfied: matplotlib>=3.0 in /usr/local/lib/python3.10/dist-packages (from lifelines==0.30.0) (3.7.1)\r\n",
      "Requirement already satisfied: autograd>=1.5 in /usr/local/lib/python3.10/dist-packages (from lifelines==0.30.0) (1.7.0)\r\n",
      "Requirement already satisfied: autograd-gamma>=0.3 in /usr/local/lib/python3.10/dist-packages (from lifelines==0.30.0) (0.5.0)\r\n",
      "Requirement already satisfied: formulaic>=0.2.2 in /usr/local/lib/python3.10/dist-packages (from lifelines==0.30.0) (1.0.2)\r\n",
      "Requirement already satisfied: interface-meta>=1.2.0 in /usr/local/lib/python3.10/dist-packages (from formulaic>=0.2.2->lifelines==0.30.0) (1.3.0)\r\n",
      "Requirement already satisfied: typing-extensions>=4.2.0 in /usr/local/lib/python3.10/dist-packages (from formulaic>=0.2.2->lifelines==0.30.0) (4.12.2)\r\n",
      "Requirement already satisfied: wrapt>=1.0 in /usr/local/lib/python3.10/dist-packages (from formulaic>=0.2.2->lifelines==0.30.0) (1.16.0)\r\n",
      "Requirement already satisfied: contourpy>=1.0.1 in /usr/local/lib/python3.10/dist-packages (from matplotlib>=3.0->lifelines==0.30.0) (1.3.0)\r\n",
      "Requirement already satisfied: cycler>=0.10 in /usr/local/lib/python3.10/dist-packages (from matplotlib>=3.0->lifelines==0.30.0) (0.12.1)\r\n",
      "Requirement already satisfied: fonttools>=4.22.0 in /usr/local/lib/python3.10/dist-packages (from matplotlib>=3.0->lifelines==0.30.0) (4.53.1)\r\n",
      "Requirement already satisfied: kiwisolver>=1.0.1 in /usr/local/lib/python3.10/dist-packages (from matplotlib>=3.0->lifelines==0.30.0) (1.4.7)\r\n",
      "Requirement already satisfied: packaging>=20.0 in /usr/local/lib/python3.10/dist-packages (from matplotlib>=3.0->lifelines==0.30.0) (24.1)\r\n",
      "Requirement already satisfied: pillow>=6.2.0 in /usr/local/lib/python3.10/dist-packages (from matplotlib>=3.0->lifelines==0.30.0) (10.4.0)\r\n",
      "Requirement already satisfied: pyparsing>=2.3.1 in /usr/local/lib/python3.10/dist-packages (from matplotlib>=3.0->lifelines==0.30.0) (3.1.4)\r\n",
      "Requirement already satisfied: python-dateutil>=2.7 in /usr/local/lib/python3.10/dist-packages (from matplotlib>=3.0->lifelines==0.30.0) (2.8.2)\r\n",
      "Requirement already satisfied: pytz>=2020.1 in /usr/local/lib/python3.10/dist-packages (from pandas>=2.1->lifelines==0.30.0) (2024.2)\r\n",
      "Requirement already satisfied: tzdata>=2022.1 in /usr/local/lib/python3.10/dist-packages (from pandas>=2.1->lifelines==0.30.0) (2024.1)\r\n",
      "Requirement already satisfied: six>=1.5 in /usr/local/lib/python3.10/dist-packages (from python-dateutil>=2.7->matplotlib>=3.0->lifelines==0.30.0) (1.16.0)\r\n",
      "Installing collected packages: lifelines\r\n",
      "Successfully installed lifelines-0.30.0\r\n"
     ]
    }
   ],
   "source": [
    "!pip install /kaggle/input/pip-install-lifelines/autograd-1.7.0-py3-none-any.whl\n",
    "!pip install /kaggle/input/pip-install-lifelines/autograd-gamma-0.5.0.tar.gz\n",
    "!pip install /kaggle/input/pip-install-lifelines/interface_meta-1.3.0-py3-none-any.whl\n",
    "!pip install /kaggle/input/pip-install-lifelines/formulaic-1.0.2-py3-none-any.whl\n",
    "!pip install /kaggle/input/pip-install-lifelines/lifelines-0.30.0-py3-none-any.whl"
   ]
  },
  {
   "cell_type": "markdown",
   "id": "644a5a8b",
   "metadata": {
    "papermill": {
     "duration": 0.013044,
     "end_time": "2025-01-27T09:04:32.677032",
     "exception": false,
     "start_time": "2025-01-27T09:04:32.663988",
     "status": "completed"
    },
    "tags": []
   },
   "source": [
    "# Loading Data"
   ]
  },
  {
   "cell_type": "code",
   "execution_count": 3,
   "id": "1c1683c7",
   "metadata": {
    "execution": {
     "iopub.execute_input": "2025-01-27T09:04:32.706611Z",
     "iopub.status.busy": "2025-01-27T09:04:32.706199Z",
     "iopub.status.idle": "2025-01-27T09:04:34.702477Z",
     "shell.execute_reply": "2025-01-27T09:04:34.701516Z"
    },
    "papermill": {
     "duration": 2.01172,
     "end_time": "2025-01-27T09:04:34.704368",
     "exception": false,
     "start_time": "2025-01-27T09:04:32.692648",
     "status": "completed"
    },
    "tags": []
   },
   "outputs": [],
   "source": [
    "import pandas as pd\n",
    "import numpy as np\n",
    "import matplotlib.pyplot as plt\n",
    "from metric import score"
   ]
  },
  {
   "cell_type": "code",
   "execution_count": 4,
   "id": "4a22fc52",
   "metadata": {
    "execution": {
     "iopub.execute_input": "2025-01-27T09:04:34.731170Z",
     "iopub.status.busy": "2025-01-27T09:04:34.730629Z",
     "iopub.status.idle": "2025-01-27T09:04:35.155063Z",
     "shell.execute_reply": "2025-01-27T09:04:35.154229Z"
    },
    "papermill": {
     "duration": 0.439723,
     "end_time": "2025-01-27T09:04:35.156852",
     "exception": false,
     "start_time": "2025-01-27T09:04:34.717129",
     "status": "completed"
    },
    "tags": []
   },
   "outputs": [],
   "source": [
    "train = pd.read_csv('/kaggle/input/equity-post-HCT-survival-predictions/train.csv')\n",
    "test = pd.read_csv('/kaggle/input/equity-post-HCT-survival-predictions/test.csv')"
   ]
  },
  {
   "cell_type": "markdown",
   "id": "6ccf11e9",
   "metadata": {
    "papermill": {
     "duration": 0.01189,
     "end_time": "2025-01-27T09:04:35.180889",
     "exception": false,
     "start_time": "2025-01-27T09:04:35.168999",
     "status": "completed"
    },
    "tags": []
   },
   "source": [
    "# Feature engineering"
   ]
  },
  {
   "cell_type": "code",
   "execution_count": 5,
   "id": "1648d182",
   "metadata": {
    "execution": {
     "iopub.execute_input": "2025-01-27T09:04:35.206550Z",
     "iopub.status.busy": "2025-01-27T09:04:35.206163Z",
     "iopub.status.idle": "2025-01-27T09:04:35.216400Z",
     "shell.execute_reply": "2025-01-27T09:04:35.215184Z"
    },
    "papermill": {
     "duration": 0.02483,
     "end_time": "2025-01-27T09:04:35.218025",
     "exception": false,
     "start_time": "2025-01-27T09:04:35.193195",
     "status": "completed"
    },
    "tags": []
   },
   "outputs": [
    {
     "name": "stdout",
     "output_type": "stream",
     "text": [
      "There are 57 FEATURES: ['dri_score', 'psych_disturb', 'cyto_score', 'diabetes', 'hla_match_c_high', 'hla_high_res_8', 'tbi_status', 'arrhythmia', 'hla_low_res_6', 'graft_type', 'vent_hist', 'renal_issue', 'pulm_severe', 'prim_disease_hct', 'hla_high_res_6', 'cmv_status', 'hla_high_res_10', 'hla_match_dqb1_high', 'tce_imm_match', 'hla_nmdp_6', 'hla_match_c_low', 'rituximab', 'hla_match_drb1_low', 'hla_match_dqb1_low', 'prod_type', 'cyto_score_detail', 'conditioning_intensity', 'ethnicity', 'year_hct', 'obesity', 'mrd_hct', 'in_vivo_tcd', 'tce_match', 'hla_match_a_high', 'hepatic_severe', 'donor_age', 'prior_tumor', 'hla_match_b_low', 'peptic_ulcer', 'age_at_hct', 'hla_match_a_low', 'gvhd_proph', 'rheum_issue', 'sex_match', 'hla_match_b_high', 'race_group', 'comorbidity_score', 'karnofsky_score', 'hepatic_mild', 'tce_div_match', 'donor_related', 'melphalan_dose', 'hla_low_res_8', 'cardiac', 'hla_match_drb1_high', 'pulm_moderate', 'hla_low_res_10']\n"
     ]
    }
   ],
   "source": [
    "RMV = [\"ID\",\"efs\",\"efs_time\"]\n",
    "RACES = train['race_group']\n",
    "FEATURES = [c for c in train.columns if not c in RMV]\n",
    "print(f\"There are {len(FEATURES)} FEATURES: {FEATURES}\")"
   ]
  },
  {
   "cell_type": "code",
   "execution_count": 6,
   "id": "0c437f05",
   "metadata": {
    "execution": {
     "iopub.execute_input": "2025-01-27T09:04:35.244369Z",
     "iopub.status.busy": "2025-01-27T09:04:35.244027Z",
     "iopub.status.idle": "2025-01-27T09:04:35.315992Z",
     "shell.execute_reply": "2025-01-27T09:04:35.315022Z"
    },
    "papermill": {
     "duration": 0.087477,
     "end_time": "2025-01-27T09:04:35.317800",
     "exception": false,
     "start_time": "2025-01-27T09:04:35.230323",
     "status": "completed"
    },
    "tags": []
   },
   "outputs": [],
   "source": [
    "#filling hla_nmdp_6\n",
    "train[\"hla_nmdp_6\"].fillna(train[[\"hla_match_a_low\", \"hla_match_b_low\", \"hla_match_drb1_high\"]].sum(axis=1), inplace=True)\n",
    "test[\"hla_nmdp_6\"].fillna(test[[\"hla_match_a_low\", \"hla_match_b_low\", \"hla_match_drb1_high\"]].sum(axis=1), inplace=True)  \n",
    "\n",
    "#filling hla_low_res_6\n",
    "train[\"hla_low_res_6\"].fillna(train[[\"hla_match_a_low\", \"hla_match_b_low\", \"hla_match_drb1_low\"]].sum(axis=1), inplace=True)\n",
    "test[\"hla_low_res_6\"].fillna(test[[\"hla_match_a_low\", \"hla_match_b_low\", \"hla_match_drb1_low\"]].sum(axis=1), inplace=True)  \n",
    "\n",
    "#filling hla_high_res_6\n",
    "train[\"hla_high_res_6\"].fillna(train[[\"hla_match_a_high\", \"hla_match_b_high\", \"hla_match_drb1_high\"]].sum(axis=1), inplace=True)\n",
    "test[\"hla_high_res_6\"].fillna(test[[\"hla_match_a_high\", \"hla_match_b_high\", \"hla_match_drb1_high\"]].sum(axis=1), inplace=True)  \n",
    "\n",
    "#filling hla_low_res_8\n",
    "train['hla_low_res_8'].fillna(train[[\"hla_match_a_low\", \"hla_match_b_low\", \"hla_match_c_low\", \"hla_match_drb1_low\"]].sum(axis=1), inplace=True)\n",
    "test['hla_low_res_8'].fillna(test[[\"hla_match_a_low\", \"hla_match_b_low\", \"hla_match_c_low\", \"hla_match_drb1_low\"]].sum(axis=1), inplace=True)\n",
    "\n",
    "#filling hla_high_res_8\n",
    "train[\"hla_high_res_8\"].fillna(train[[\"hla_match_a_high\", \"hla_match_b_high\", \"hla_match_c_high\", \"hla_match_drb1_high\"]].sum(axis=1), inplace=True)\n",
    "test[\"hla_high_res_8\"].fillna(test[[\"hla_match_a_high\", \"hla_match_b_high\", \"hla_match_c_high\", \"hla_match_drb1_high\"]].sum(axis=1), inplace=True)\n",
    "\n",
    "#filling hla_low_res_10\n",
    "train[\"hla_low_res_10\"].fillna(train[[\"hla_match_a_low\", \"hla_match_b_low\", \"hla_match_c_low\", \"hla_match_drb1_low\", \"hla_match_dqb1_low\"]].sum(axis=1), inplace=True)\n",
    "test[\"hla_low_res_10\"].fillna(test[[\"hla_match_a_low\", \"hla_match_b_low\", \"hla_match_c_low\", \"hla_match_drb1_low\", \"hla_match_dqb1_low\"]].sum(axis=1), inplace=True)\n",
    "\n",
    "#filling hla_high_res_10\n",
    "train[\"hla_high_res_10\"].fillna(train[[\"hla_match_a_high\", \"hla_match_b_high\", \"hla_match_c_high\", \"hla_match_drb1_high\", \"hla_match_dqb1_high\"]].sum(axis=1), inplace=True)\n",
    "test[\"hla_high_res_10\"].fillna(test[[\"hla_match_a_high\", \"hla_match_b_high\", \"hla_match_c_high\", \"hla_match_drb1_high\", \"hla_match_dqb1_high\"]].sum(axis=1), inplace=True)"
   ]
  },
  {
   "cell_type": "code",
   "execution_count": 7,
   "id": "e7df2cfa",
   "metadata": {
    "execution": {
     "iopub.execute_input": "2025-01-27T09:04:35.343238Z",
     "iopub.status.busy": "2025-01-27T09:04:35.342875Z",
     "iopub.status.idle": "2025-01-27T09:04:35.541692Z",
     "shell.execute_reply": "2025-01-27T09:04:35.540483Z"
    },
    "papermill": {
     "duration": 0.213506,
     "end_time": "2025-01-27T09:04:35.543480",
     "exception": false,
     "start_time": "2025-01-27T09:04:35.329974",
     "status": "completed"
    },
    "tags": []
   },
   "outputs": [
    {
     "name": "stdout",
     "output_type": "stream",
     "text": [
      "In these features, there are 35 CATEGORICAL FEATURES: ['dri_score', 'psych_disturb', 'cyto_score', 'diabetes', 'tbi_status', 'arrhythmia', 'graft_type', 'vent_hist', 'renal_issue', 'pulm_severe', 'prim_disease_hct', 'cmv_status', 'tce_imm_match', 'rituximab', 'prod_type', 'cyto_score_detail', 'conditioning_intensity', 'ethnicity', 'obesity', 'mrd_hct', 'in_vivo_tcd', 'tce_match', 'hepatic_severe', 'prior_tumor', 'peptic_ulcer', 'gvhd_proph', 'rheum_issue', 'sex_match', 'race_group', 'hepatic_mild', 'tce_div_match', 'donor_related', 'melphalan_dose', 'cardiac', 'pulm_moderate']\n"
     ]
    }
   ],
   "source": [
    "CATS = []\n",
    "for c in FEATURES:\n",
    "    if train[c].dtype==\"object\":\n",
    "        CATS.append(c)\n",
    "        train[c] = train[c].fillna(\"NAN\")\n",
    "        test[c] = test[c].fillna(\"NAN\")\n",
    "        train[c] = train[c].astype('category')\n",
    "        test[c] = test[c].astype('category')\n",
    "    else:\n",
    "        train[c] = train[c].fillna(-1)\n",
    "        test[c] = test[c].fillna(-1) \n",
    "print(f\"In these features, there are {len(CATS)} CATEGORICAL FEATURES: {CATS}\")"
   ]
  },
  {
   "cell_type": "code",
   "execution_count": 8,
   "id": "7f50814d",
   "metadata": {
    "execution": {
     "iopub.execute_input": "2025-01-27T09:04:35.568903Z",
     "iopub.status.busy": "2025-01-27T09:04:35.568529Z",
     "iopub.status.idle": "2025-01-27T09:04:35.929095Z",
     "shell.execute_reply": "2025-01-27T09:04:35.928148Z"
    },
    "papermill": {
     "duration": 0.375271,
     "end_time": "2025-01-27T09:04:35.930857",
     "exception": false,
     "start_time": "2025-01-27T09:04:35.555586",
     "status": "completed"
    },
    "tags": []
   },
   "outputs": [],
   "source": [
    "from sklearn.model_selection import StratifiedKFold\n",
    "FOLDS = 5\n",
    "kf = StratifiedKFold(n_splits=FOLDS, shuffle=True, random_state=42)"
   ]
  },
  {
   "cell_type": "markdown",
   "id": "44c68e32",
   "metadata": {
    "papermill": {
     "duration": 0.011851,
     "end_time": "2025-01-27T09:04:35.954925",
     "exception": false,
     "start_time": "2025-01-27T09:04:35.943074",
     "status": "completed"
    },
    "tags": []
   },
   "source": [
    "# Kaplan Meier target"
   ]
  },
  {
   "cell_type": "code",
   "execution_count": 9,
   "id": "4eb1fef1",
   "metadata": {
    "execution": {
     "iopub.execute_input": "2025-01-27T09:04:35.980180Z",
     "iopub.status.busy": "2025-01-27T09:04:35.979843Z",
     "iopub.status.idle": "2025-01-27T09:04:36.283812Z",
     "shell.execute_reply": "2025-01-27T09:04:36.282695Z"
    },
    "papermill": {
     "duration": 0.318945,
     "end_time": "2025-01-27T09:04:36.285773",
     "exception": false,
     "start_time": "2025-01-27T09:04:35.966828",
     "status": "completed"
    },
    "tags": []
   },
   "outputs": [],
   "source": [
    "from lifelines import KaplanMeierFitter\n",
    "\n",
    "def transform_survival_probability_kmf(df):\n",
    "\n",
    "    oof = np.zeros(len(train))\n",
    "    \n",
    "    kf = StratifiedKFold(n_splits=FOLDS, shuffle=True, random_state=42)\n",
    "    for i, (train_index, test_index) in enumerate(kf.split(df, RACES)):\n",
    "\n",
    "        df_train = df.iloc[train_index,:].copy()\n",
    "        df_val = df.iloc[test_index,:].copy()\n",
    "        \n",
    "        kmf = KaplanMeierFitter()\n",
    "        kmf.fit(durations=df_train['efs_time'], event_observed=df_train['efs'])\n",
    "\n",
    "        oof[test_index] = kmf.survival_function_at_times(df_val['efs_time']).values\n",
    "\n",
    "    return oof\n",
    "    \n",
    "train[\"KaplanMeier\"] = transform_survival_probability_kmf(train)"
   ]
  },
  {
   "cell_type": "code",
   "execution_count": 10,
   "id": "e054f1e6",
   "metadata": {
    "execution": {
     "iopub.execute_input": "2025-01-27T09:04:36.311823Z",
     "iopub.status.busy": "2025-01-27T09:04:36.311475Z",
     "iopub.status.idle": "2025-01-27T09:04:36.923976Z",
     "shell.execute_reply": "2025-01-27T09:04:36.922927Z"
    },
    "papermill": {
     "duration": 0.627499,
     "end_time": "2025-01-27T09:04:36.925681",
     "exception": false,
     "start_time": "2025-01-27T09:04:36.298182",
     "status": "completed"
    },
    "tags": []
   },
   "outputs": [
    {
     "data": {
      "image/png": "[encoded data removed]",
      "text/plain": [
       "<Figure size 640x480 with 1 Axes>"
      ]
     },
     "metadata": {},
     "output_type": "display_data"
    }
   ],
   "source": [
    "plt.hist(train.loc[train.efs==1,\"KaplanMeier\"],bins=100,label=\"efs=1, Yes Event\")\n",
    "plt.hist(train.loc[train.efs==0,\"KaplanMeier\"],bins=100,label=\"efs=0, Maybe Event\")\n",
    "plt.xlabel(\"Transformed Target y\")\n",
    "plt.ylabel(\"Density\")\n",
    "plt.title(\"KaplanMeier Transformed Target y using both efs and efs_time.\")\n",
    "plt.legend()\n",
    "plt.show()"
   ]
  },
  {
   "cell_type": "markdown",
   "id": "f03c4001",
   "metadata": {
    "papermill": {
     "duration": 0.013072,
     "end_time": "2025-01-27T09:04:36.952106",
     "exception": false,
     "start_time": "2025-01-27T09:04:36.939034",
     "status": "completed"
    },
    "tags": []
   },
   "source": [
    "# NelsonAalen target"
   ]
  },
  {
   "cell_type": "code",
   "execution_count": 11,
   "id": "04e00911",
   "metadata": {
    "execution": {
     "iopub.execute_input": "2025-01-27T09:04:36.979207Z",
     "iopub.status.busy": "2025-01-27T09:04:36.978864Z",
     "iopub.status.idle": "2025-01-27T09:04:37.255139Z",
     "shell.execute_reply": "2025-01-27T09:04:37.254273Z"
    },
    "papermill": {
     "duration": 0.292128,
     "end_time": "2025-01-27T09:04:37.256967",
     "exception": false,
     "start_time": "2025-01-27T09:04:36.964839",
     "status": "completed"
    },
    "tags": []
   },
   "outputs": [],
   "source": [
    "from lifelines import NelsonAalenFitter\n",
    "\n",
    "def transform_survival_probability_naf(df):\n",
    "\n",
    "    oof = np.zeros(len(train))\n",
    "    \n",
    "    kf = StratifiedKFold(n_splits=FOLDS, shuffle=True, random_state=42)\n",
    "    for i, (train_index, test_index) in enumerate(kf.split(df, RACES)):\n",
    "\n",
    "        df_train = df.iloc[train_index,:].copy()\n",
    "        df_val = df.iloc[test_index,:].copy()\n",
    "        \n",
    "        naf = NelsonAalenFitter()\n",
    "        naf.fit(durations=df_train['efs_time'], event_observed=df_train['efs'])\n",
    "\n",
    "        oof[test_index] = -naf.cumulative_hazard_at_times(df_val['efs_time']).values\n",
    "\n",
    "    return oof\n",
    "\n",
    "train[\"NelsonAalen\"] = transform_survival_probability_naf(train)"
   ]
  },
  {
   "cell_type": "code",
   "execution_count": 12,
   "id": "648e088e",
   "metadata": {
    "execution": {
     "iopub.execute_input": "2025-01-27T09:04:37.286008Z",
     "iopub.status.busy": "2025-01-27T09:04:37.285672Z",
     "iopub.status.idle": "2025-01-27T09:04:37.879406Z",
     "shell.execute_reply": "2025-01-27T09:04:37.878444Z"
    },
    "papermill": {
     "duration": 0.609534,
     "end_time": "2025-01-27T09:04:37.881052",
     "exception": false,
     "start_time": "2025-01-27T09:04:37.271518",
     "status": "completed"
    },
    "tags": []
   },
   "outputs": [
    {
     "data": {
      "image/png": "[encoded data removed]",
      "text/plain": [
       "<Figure size 640x480 with 1 Axes>"
      ]
     },
     "metadata": {},
     "output_type": "display_data"
    }
   ],
   "source": [
    "plt.hist(train.loc[train.efs==1,\"NelsonAalen\"],bins=100,label=\"efs=1, Yes Event\")\n",
    "plt.hist(train.loc[train.efs==0,\"NelsonAalen\"],bins=100,label=\"efs=0, Maybe Event\")\n",
    "plt.xlabel(\"Transformed Target\")\n",
    "plt.ylabel(\"Density\")\n",
    "plt.title(\"NelsonAalen Transformed Target y using both efs and efs_time.\")\n",
    "plt.legend()\n",
    "plt.show()"
   ]
  },
  {
   "cell_type": "markdown",
   "id": "06df8274",
   "metadata": {
    "papermill": {
     "duration": 0.01459,
     "end_time": "2025-01-27T09:04:37.909712",
     "exception": false,
     "start_time": "2025-01-27T09:04:37.895122",
     "status": "completed"
    },
    "tags": []
   },
   "source": [
    "# COX target"
   ]
  },
  {
   "cell_type": "code",
   "execution_count": 13,
   "id": "97d8cc08",
   "metadata": {
    "execution": {
     "iopub.execute_input": "2025-01-27T09:04:37.939206Z",
     "iopub.status.busy": "2025-01-27T09:04:37.938854Z",
     "iopub.status.idle": "2025-01-27T09:06:58.587733Z",
     "shell.execute_reply": "2025-01-27T09:06:58.586122Z"
    },
    "papermill": {
     "duration": 140.667799,
     "end_time": "2025-01-27T09:06:58.591506",
     "exception": false,
     "start_time": "2025-01-27T09:04:37.923707",
     "status": "completed"
    },
    "tags": []
   },
   "outputs": [],
   "source": [
    "from lifelines import CoxPHFitter\n",
    "\n",
    "def transform_survival_probability_cox(df):\n",
    "\n",
    "    oof = np.zeros(len(train))\n",
    "\n",
    "    df = pd.get_dummies(df, columns=CATS, drop_first=True).drop(['ID', 'KaplanMeier', 'NelsonAalen'], axis=1)\n",
    "    \n",
    "    kf = StratifiedKFold(n_splits=FOLDS, shuffle=True, random_state=42)\n",
    "    for i, (train_index, test_index) in enumerate(kf.split(df, RACES)):\n",
    "\n",
    "        df_train = df.iloc[train_index].copy()\n",
    "        df_val = df.iloc[test_index].copy()\n",
    "\n",
    "        df_train = df_train.loc[:, df_train.nunique() > 1].copy()\n",
    "        df_val = df_val[df_train.columns].copy()\n",
    "\n",
    "        \n",
    "        cph = CoxPHFitter(penalizer=0.01)\n",
    "        cph.fit(df=df_train, duration_col='efs_time', event_col='efs')\n",
    "\n",
    "        oof[test_index] = cph.predict_partial_hazard(df_val)\n",
    "\n",
    "    return oof\n",
    "\n",
    "train[\"CoxPH\"] = transform_survival_probability_cox(train)"
   ]
  },
  {
   "cell_type": "code",
   "execution_count": 14,
   "id": "3a811143",
   "metadata": {
    "execution": {
     "iopub.execute_input": "2025-01-27T09:06:58.674602Z",
     "iopub.status.busy": "2025-01-27T09:06:58.673970Z",
     "iopub.status.idle": "2025-01-27T09:06:59.179817Z",
     "shell.execute_reply": "2025-01-27T09:06:59.178663Z"
    },
    "papermill": {
     "duration": 0.549326,
     "end_time": "2025-01-27T09:06:59.181598",
     "exception": false,
     "start_time": "2025-01-27T09:06:58.632272",
     "status": "completed"
    },
    "tags": []
   },
   "outputs": [
    {
     "data": {
      "image/png": "[encoded data removed]",
      "text/plain": [
       "<Figure size 640x480 with 1 Axes>"
      ]
     },
     "metadata": {},
     "output_type": "display_data"
    }
   ],
   "source": [
    "plt.hist(train.loc[train.efs==1,\"CoxPH\"],bins=100,label=\"efs=1, Yes Event\")\n",
    "plt.hist(train.loc[train.efs==0,\"CoxPH\"],bins=100,label=\"efs=0, Maybe Event\")\n",
    "plt.xlabel(\"Transformed Target\")\n",
    "plt.ylabel(\"Density\")\n",
    "plt.title(\"CoxPH Transformed Target y using both efs and efs_time.\")\n",
    "plt.legend()\n",
    "plt.show()"
   ]
  },
  {
   "cell_type": "markdown",
   "id": "75769009",
   "metadata": {
    "papermill": {
     "duration": 0.014172,
     "end_time": "2025-01-27T09:06:59.210345",
     "exception": false,
     "start_time": "2025-01-27T09:06:59.196173",
     "status": "completed"
    },
    "tags": []
   },
   "source": [
    "# Cox Loss Target"
   ]
  },
  {
   "cell_type": "code",
   "execution_count": 15,
   "id": "91e4222f",
   "metadata": {
    "execution": {
     "iopub.execute_input": "2025-01-27T09:06:59.240884Z",
     "iopub.status.busy": "2025-01-27T09:06:59.240517Z",
     "iopub.status.idle": "2025-01-27T09:06:59.249150Z",
     "shell.execute_reply": "2025-01-27T09:06:59.247949Z"
    },
    "papermill": {
     "duration": 0.025946,
     "end_time": "2025-01-27T09:06:59.251168",
     "exception": false,
     "start_time": "2025-01-27T09:06:59.225222",
     "status": "completed"
    },
    "tags": []
   },
   "outputs": [],
   "source": [
    "train[\"CoxLoss\"] = train.efs_time.copy()\n",
    "train.loc[train.efs==0,\"CoxLoss\"] *= -1"
   ]
  },
  {
   "cell_type": "markdown",
   "id": "2d26e261",
   "metadata": {
    "papermill": {
     "duration": 0.014719,
     "end_time": "2025-01-27T09:06:59.280868",
     "exception": false,
     "start_time": "2025-01-27T09:06:59.266149",
     "status": "completed"
    },
    "tags": []
   },
   "source": [
    "# Evaluation func"
   ]
  },
  {
   "cell_type": "code",
   "execution_count": 16,
   "id": "ca9691bf",
   "metadata": {
    "execution": {
     "iopub.execute_input": "2025-01-27T09:06:59.313075Z",
     "iopub.status.busy": "2025-01-27T09:06:59.312733Z",
     "iopub.status.idle": "2025-01-27T09:06:59.318410Z",
     "shell.execute_reply": "2025-01-27T09:06:59.317241Z"
    },
    "papermill": {
     "duration": 0.023128,
     "end_time": "2025-01-27T09:06:59.320074",
     "exception": false,
     "start_time": "2025-01-27T09:06:59.296946",
     "status": "completed"
    },
    "tags": []
   },
   "outputs": [],
   "source": [
    "from metric import score\n",
    "def res(df, preds):\n",
    "    y_true = df[[\"ID\",\"efs\",\"efs_time\",\"race_group\"]].copy()\n",
    "    y_pred = df[[\"ID\"]].copy()\n",
    "    y_pred[\"prediction\"] = preds\n",
    "    return score(y_true.copy(), y_pred.copy(), \"ID\")"
   ]
  },
  {
   "cell_type": "markdown",
   "id": "a795fbb5",
   "metadata": {
    "papermill": {
     "duration": 0.013964,
     "end_time": "2025-01-27T09:06:59.348802",
     "exception": false,
     "start_time": "2025-01-27T09:06:59.334838",
     "status": "completed"
    },
    "tags": []
   },
   "source": [
    "# Model Parameters"
   ]
  },
  {
   "cell_type": "code",
   "execution_count": 17,
   "id": "ad3740c9",
   "metadata": {
    "execution": {
     "iopub.execute_input": "2025-01-27T09:06:59.378781Z",
     "iopub.status.busy": "2025-01-27T09:06:59.378361Z",
     "iopub.status.idle": "2025-01-27T09:06:59.387370Z",
     "shell.execute_reply": "2025-01-27T09:06:59.386197Z"
    },
    "papermill": {
     "duration": 0.026234,
     "end_time": "2025-01-27T09:06:59.389123",
     "exception": false,
     "start_time": "2025-01-27T09:06:59.362889",
     "status": "completed"
    },
    "tags": []
   },
   "outputs": [],
   "source": [
    "param_cat = {\n",
    "        'loss_function': 'RMSE',\n",
    "        'learning_rate': 0.03,\n",
    "        'random_state': 42,\n",
    "        'task_type': 'CPU',\n",
    "        'num_trees': 6000,\n",
    "        'reg_lambda': 8.0,\n",
    "        'depth': 8\n",
    "    }\n",
    "\n",
    "param_cat_cox1 = {\n",
    "        'task_type': 'CPU',\n",
    "        'loss_function': \"Cox\",\n",
    "        'iterations': 1900,\n",
    "        'learning_rate': 0.026022154701247448,\n",
    "        'depth': 6,\n",
    "        'subsample': 0.6674150207128257,\n",
    "        'min_data_in_leaf': 89,\n",
    "        'l2_leaf_reg': 7.988614815866904,\n",
    "        'bootstrap_type': 'Bernoulli',\n",
    "        'grow_policy': 'Lossguide',\n",
    "        'use_best_model': False,\n",
    "        'random_state': 42\n",
    "}\n",
    "\n",
    "param_cat_cox2 = {\n",
    "        'task_type': 'CPU',\n",
    "        'loss_function': \"Cox\",\n",
    "        'iterations': 1900,\n",
    "        'learning_rate': 0.026022154701247448,\n",
    "        'depth': 6,\n",
    "        'subsample': 0.6674150207128257,\n",
    "        'min_data_in_leaf': 89,\n",
    "        'l2_leaf_reg': 7.988614815866904,\n",
    "        'bootstrap_type': 'Bernoulli',\n",
    "        'grow_policy': 'Depthwise', \n",
    "        'use_best_model': False,\n",
    "        'random_state': 42\n",
    "}\n",
    "\n",
    "param_lgb = {\n",
    "        'objective': 'regression',\n",
    "        'metric': 'rmse',\n",
    "        'device': 'cpu',\n",
    "        'verbose': -1,\n",
    "        \"bagging_freq\": 1,\n",
    "        'n_estimators': 9800,\n",
    "        'learning_rate': 0.0025562611410098906,\n",
    "        'max_depth': 11,\n",
    "        'subsample': 0.7000302358347922,\n",
    "        'colsample_bytree': 0.34454787171802054,\n",
    "        'min_data_in_leaf': 52\n",
    "    }\n",
    "\n",
    "\n",
    "param_xgb = {\n",
    "        'device': 'cpu',\n",
    "        'enable_categorical': True, \n",
    "        \"objective\": \"reg:squarederror\",\n",
    "        \"verbosity\": 0,\n",
    "        'n_estimators': 9400,\n",
    "        'learning_rate': 0.01462545658882346,\n",
    "        'max_depth': 4,\n",
    "        'subsample': 0.8427706960687078,\n",
    "        'colsample_bytree': 0.2630880900000106,\n",
    "        'min_child_weight': 50,\n",
    "        'reg_lambda': 29.0\n",
    "}\n",
    "\n",
    "\n",
    "\n",
    "param_xgb_cox = {\n",
    "        'device': \"cpu\",\n",
    "        'max_depth': 3,  \n",
    "        'colsample_bytree': 0.5,  \n",
    "        'subsample': 0.8,  \n",
    "        'n_estimators': 2000,  \n",
    "        'learning_rate': 0.02,  \n",
    "        'enable_categorical': True,\n",
    "        'min_child_weight': 80,\n",
    "        'objective': 'survival:cox',\n",
    "        'eval_metric': 'cox-nloglik',\n",
    "        'seed': 42\n",
    "}\n"
   ]
  },
  {
   "cell_type": "markdown",
   "id": "8026594e",
   "metadata": {
    "papermill": {
     "duration": 0.014246,
     "end_time": "2025-01-27T09:06:59.418412",
     "exception": false,
     "start_time": "2025-01-27T09:06:59.404166",
     "status": "completed"
    },
    "tags": []
   },
   "source": [
    "# XGBoost KaplanMeier"
   ]
  },
  {
   "cell_type": "code",
   "execution_count": 18,
   "id": "0035dcdf",
   "metadata": {
    "execution": {
     "iopub.execute_input": "2025-01-27T09:06:59.448925Z",
     "iopub.status.busy": "2025-01-27T09:06:59.448503Z",
     "iopub.status.idle": "2025-01-27T09:06:59.706633Z",
     "shell.execute_reply": "2025-01-27T09:06:59.705443Z"
    },
    "papermill": {
     "duration": 0.2756,
     "end_time": "2025-01-27T09:06:59.708512",
     "exception": false,
     "start_time": "2025-01-27T09:06:59.432912",
     "status": "completed"
    },
    "tags": []
   },
   "outputs": [
    {
     "name": "stdout",
     "output_type": "stream",
     "text": [
      "Using XGBoost version 2.0.3\n"
     ]
    }
   ],
   "source": [
    "from xgboost import XGBRegressor, XGBClassifier\n",
    "import xgboost as xgb\n",
    "print(\"Using XGBoost version\",xgb.__version__)"
   ]
  },
  {
   "cell_type": "code",
   "execution_count": 19,
   "id": "5097ced0",
   "metadata": {
    "execution": {
     "iopub.execute_input": "2025-01-27T09:06:59.739143Z",
     "iopub.status.busy": "2025-01-27T09:06:59.738789Z",
     "iopub.status.idle": "2025-01-27T09:09:21.248553Z",
     "shell.execute_reply": "2025-01-27T09:09:21.246235Z"
    },
    "papermill": {
     "duration": 141.527186,
     "end_time": "2025-01-27T09:09:21.250440",
     "exception": false,
     "start_time": "2025-01-27T09:06:59.723254",
     "status": "completed"
    },
    "tags": []
   },
   "outputs": [
    {
     "name": "stdout",
     "output_type": "stream",
     "text": [
      "#########################\n",
      "### Fold 1\n",
      "#########################\n",
      "#########################\n",
      "### Fold 2\n",
      "#########################\n",
      "#########################\n",
      "### Fold 3\n",
      "#########################\n",
      "#########################\n",
      "### Fold 4\n",
      "#########################\n",
      "#########################\n",
      "### Fold 5\n",
      "#########################\n",
      "CPU times: user 9min 8s, sys: 1.95 s, total: 9min 10s\n",
      "Wall time: 2min 21s\n"
     ]
    }
   ],
   "source": [
    "%%time\n",
    "    \n",
    "oof_xgb_km = np.zeros(len(train))\n",
    "pred_xgb_km = np.zeros(len(test))\n",
    "\n",
    "for i, (train_index, test_index) in enumerate(kf.split(train, train['race_group'])):\n",
    "\n",
    "    print(\"#\"*25)\n",
    "    print(f\"### Fold {i+1}\")\n",
    "    print(\"#\"*25)\n",
    "    \n",
    "    X_train = train.loc[train_index,FEATURES].copy()\n",
    "    y_train = train.loc[train_index,\"KaplanMeier\"]\n",
    "    X_val = train.loc[test_index,FEATURES].copy()\n",
    "    y_val = train.loc[test_index,\"KaplanMeier\"]\n",
    "    X_test = test[FEATURES].copy()\n",
    "    \n",
    "    model_xgb_km = XGBRegressor(**param_xgb)\n",
    "    model_xgb_km.fit(\n",
    "        X_train, y_train,\n",
    "        eval_set=[(X_val, y_val)],  \n",
    "        verbose=0,\n",
    "        early_stopping_rounds=300,\n",
    "    )\n",
    "\n",
    "    # INFER OOF\n",
    "    oof_xgb_km[test_index] = model_xgb_km.predict(X_val)\n",
    "    # INFER TEST\n",
    "    pred_xgb_km += model_xgb_km.predict(X_test)\n",
    "\n",
    "# COMPUTE AVERAGE TEST PREDS\n",
    "pred_xgb_km /= FOLDS"
   ]
  },
  {
   "cell_type": "code",
   "execution_count": 20,
   "id": "9b8af997",
   "metadata": {
    "execution": {
     "iopub.execute_input": "2025-01-27T09:09:21.284072Z",
     "iopub.status.busy": "2025-01-27T09:09:21.283717Z",
     "iopub.status.idle": "2025-01-27T09:09:21.698235Z",
     "shell.execute_reply": "2025-01-27T09:09:21.696975Z"
    },
    "papermill": {
     "duration": 0.43219,
     "end_time": "2025-01-27T09:09:21.700098",
     "exception": false,
     "start_time": "2025-01-27T09:09:21.267908",
     "status": "completed"
    },
    "tags": []
   },
   "outputs": [
    {
     "name": "stdout",
     "output_type": "stream",
     "text": [
      "CV for XGBoost KaplanMeier 0.6746456133097669\n"
     ]
    }
   ],
   "source": [
    "print('CV for XGBoost KaplanMeier', res(train, oof_xgb_km))"
   ]
  },
  {
   "cell_type": "markdown",
   "id": "81982840",
   "metadata": {
    "papermill": {
     "duration": 0.014393,
     "end_time": "2025-01-27T09:09:21.729641",
     "exception": false,
     "start_time": "2025-01-27T09:09:21.715248",
     "status": "completed"
    },
    "tags": []
   },
   "source": [
    "# XGBoost NelsonAalen"
   ]
  },
  {
   "cell_type": "code",
   "execution_count": 21,
   "id": "a22d75b9",
   "metadata": {
    "execution": {
     "iopub.execute_input": "2025-01-27T09:09:21.760794Z",
     "iopub.status.busy": "2025-01-27T09:09:21.760424Z",
     "iopub.status.idle": "2025-01-27T09:11:34.706769Z",
     "shell.execute_reply": "2025-01-27T09:11:34.705508Z"
    },
    "papermill": {
     "duration": 132.963522,
     "end_time": "2025-01-27T09:11:34.708318",
     "exception": false,
     "start_time": "2025-01-27T09:09:21.744796",
     "status": "completed"
    },
    "tags": []
   },
   "outputs": [
    {
     "name": "stdout",
     "output_type": "stream",
     "text": [
      "#########################\n",
      "### Fold 1\n",
      "#########################\n",
      "#########################\n",
      "### Fold 2\n",
      "#########################\n",
      "#########################\n",
      "### Fold 3\n",
      "#########################\n",
      "#########################\n",
      "### Fold 4\n",
      "#########################\n",
      "#########################\n",
      "### Fold 5\n",
      "#########################\n",
      "CPU times: user 8min 36s, sys: 1.88 s, total: 8min 38s\n",
      "Wall time: 2min 12s\n"
     ]
    }
   ],
   "source": [
    "%%time\n",
    "    \n",
    "oof_xgb_na = np.zeros(len(train))\n",
    "pred_xgb_na = np.zeros(len(test))\n",
    "\n",
    "for i, (train_index, test_index) in enumerate(kf.split(train, train['race_group'])):\n",
    "\n",
    "    print(\"#\"*25)\n",
    "    print(f\"### Fold {i+1}\")\n",
    "    print(\"#\"*25)\n",
    "    \n",
    "    X_train = train.loc[train_index,FEATURES].copy()\n",
    "    y_train = train.loc[train_index,\"NelsonAalen\"]\n",
    "    X_val = train.loc[test_index,FEATURES].copy()\n",
    "    y_val = train.loc[test_index,\"NelsonAalen\"]\n",
    "    X_test = test[FEATURES].copy()\n",
    "    \n",
    "    model_xgb_na = XGBRegressor(**param_xgb)\n",
    "    \n",
    "    model_xgb_na.fit(\n",
    "        X_train, y_train,\n",
    "        eval_set=[(X_val, y_val)],  \n",
    "        verbose=0,\n",
    "        early_stopping_rounds=300,\n",
    "    )\n",
    "\n",
    "    # INFER OOF\n",
    "    oof_xgb_na[test_index] = model_xgb_na.predict(X_val)\n",
    "    # INFER TEST\n",
    "    pred_xgb_na += model_xgb_na.predict(X_test)\n",
    "\n",
    "# COMPUTE AVERAGE TEST PREDS\n",
    "pred_xgb_na /= FOLDS"
   ]
  },
  {
   "cell_type": "code",
   "execution_count": 22,
   "id": "ab321dc8",
   "metadata": {
    "execution": {
     "iopub.execute_input": "2025-01-27T09:11:34.746376Z",
     "iopub.status.busy": "2025-01-27T09:11:34.746030Z",
     "iopub.status.idle": "2025-01-27T09:11:35.127625Z",
     "shell.execute_reply": "2025-01-27T09:11:35.126476Z"
    },
    "papermill": {
     "duration": 0.399291,
     "end_time": "2025-01-27T09:11:35.129144",
     "exception": false,
     "start_time": "2025-01-27T09:11:34.729853",
     "status": "completed"
    },
    "tags": []
   },
   "outputs": [
    {
     "name": "stdout",
     "output_type": "stream",
     "text": [
      "CV for XGBoost NelsonAalen 0.6775431349669581\n"
     ]
    }
   ],
   "source": [
    "print('CV for XGBoost NelsonAalen', res(train, oof_xgb_na))"
   ]
  },
  {
   "cell_type": "markdown",
   "id": "a166cecb",
   "metadata": {
    "papermill": {
     "duration": 0.014932,
     "end_time": "2025-01-27T09:11:35.159544",
     "exception": false,
     "start_time": "2025-01-27T09:11:35.144612",
     "status": "completed"
    },
    "tags": []
   },
   "source": [
    "# XGBoost CoxPH"
   ]
  },
  {
   "cell_type": "code",
   "execution_count": 23,
   "id": "2db56ce8",
   "metadata": {
    "execution": {
     "iopub.execute_input": "2025-01-27T09:11:35.191128Z",
     "iopub.status.busy": "2025-01-27T09:11:35.190780Z",
     "iopub.status.idle": "2025-01-27T09:16:32.666420Z",
     "shell.execute_reply": "2025-01-27T09:16:32.665508Z"
    },
    "papermill": {
     "duration": 297.51106,
     "end_time": "2025-01-27T09:16:32.685726",
     "exception": false,
     "start_time": "2025-01-27T09:11:35.174666",
     "status": "completed"
    },
    "tags": []
   },
   "outputs": [
    {
     "name": "stdout",
     "output_type": "stream",
     "text": [
      "#########################\n",
      "### Fold 1\n",
      "#########################\n",
      "#########################\n",
      "### Fold 2\n",
      "#########################\n",
      "#########################\n",
      "### Fold 3\n",
      "#########################\n",
      "#########################\n",
      "### Fold 4\n",
      "#########################\n",
      "#########################\n",
      "### Fold 5\n",
      "#########################\n",
      "CPU times: user 19min 16s, sys: 4.19 s, total: 19min 20s\n",
      "Wall time: 4min 57s\n"
     ]
    }
   ],
   "source": [
    "%%time\n",
    "    \n",
    "oof_xgb_coxph = np.zeros(len(train))\n",
    "pred_xgb_coxph = np.zeros(len(test))\n",
    "\n",
    "for i, (train_index, test_index) in enumerate(kf.split(train, train['race_group'])):\n",
    "\n",
    "    print(\"#\"*25)\n",
    "    print(f\"### Fold {i+1}\")\n",
    "    print(\"#\"*25)\n",
    "    \n",
    "    X_train = train.loc[train_index,FEATURES].copy()\n",
    "    y_train = train.loc[train_index,\"CoxPH\"]\n",
    "    X_val = train.loc[test_index,FEATURES].copy()\n",
    "    y_val = train.loc[test_index,\"CoxPH\"]\n",
    "    X_test = test[FEATURES].copy()\n",
    "    \n",
    "    model_xgb_coxph = XGBRegressor(**param_xgb)\n",
    "    \n",
    "    model_xgb_coxph.fit(\n",
    "        X_train, y_train,\n",
    "        eval_set=[(X_val, y_val)],  \n",
    "        verbose=0,\n",
    "        early_stopping_rounds=300,\n",
    "    )\n",
    "\n",
    "    # INFER OOF\n",
    "    oof_xgb_coxph[test_index] = model_xgb_coxph.predict(X_val)\n",
    "    # INFER TEST\n",
    "    pred_xgb_coxph += model_xgb_coxph.predict(X_test)\n",
    "\n",
    "# COMPUTE AVERAGE TEST PREDS\n",
    "pred_xgb_coxph /= FOLDS"
   ]
  },
  {
   "cell_type": "code",
   "execution_count": 24,
   "id": "3e9e6bf5",
   "metadata": {
    "execution": {
     "iopub.execute_input": "2025-01-27T09:16:32.720585Z",
     "iopub.status.busy": "2025-01-27T09:16:32.720184Z",
     "iopub.status.idle": "2025-01-27T09:16:33.101920Z",
     "shell.execute_reply": "2025-01-27T09:16:33.100742Z"
    },
    "papermill": {
     "duration": 0.402277,
     "end_time": "2025-01-27T09:16:33.103700",
     "exception": false,
     "start_time": "2025-01-27T09:16:32.701423",
     "status": "completed"
    },
    "tags": []
   },
   "outputs": [
    {
     "name": "stdout",
     "output_type": "stream",
     "text": [
      "CV for XGBoost CoxPH 0.6611798737249636\n"
     ]
    }
   ],
   "source": [
    "print('CV for XGBoost CoxPH', res(train, oof_xgb_coxph))"
   ]
  },
  {
   "cell_type": "markdown",
   "id": "01ac35a9",
   "metadata": {
    "papermill": {
     "duration": 0.07335,
     "end_time": "2025-01-27T09:16:33.193267",
     "exception": false,
     "start_time": "2025-01-27T09:16:33.119917",
     "status": "completed"
    },
    "tags": []
   },
   "source": [
    "# XGBoost Cox Loss"
   ]
  },
  {
   "cell_type": "code",
   "execution_count": 25,
   "id": "089dbbde",
   "metadata": {
    "execution": {
     "iopub.execute_input": "2025-01-27T09:16:33.227456Z",
     "iopub.status.busy": "2025-01-27T09:16:33.227076Z",
     "iopub.status.idle": "2025-01-27T09:17:42.591222Z",
     "shell.execute_reply": "2025-01-27T09:17:42.590185Z"
    },
    "papermill": {
     "duration": 69.383982,
     "end_time": "2025-01-27T09:17:42.593333",
     "exception": false,
     "start_time": "2025-01-27T09:16:33.209351",
     "status": "completed"
    },
    "tags": []
   },
   "outputs": [
    {
     "name": "stdout",
     "output_type": "stream",
     "text": [
      "#########################\n",
      "### Fold 1\n",
      "#########################\n",
      "#########################\n",
      "### Fold 2\n",
      "#########################\n",
      "#########################\n",
      "### Fold 3\n",
      "#########################\n",
      "#########################\n",
      "### Fold 4\n",
      "#########################\n",
      "#########################\n",
      "### Fold 5\n",
      "#########################\n",
      "CPU times: user 4min 29s, sys: 746 ms, total: 4min 30s\n",
      "Wall time: 1min 9s\n"
     ]
    }
   ],
   "source": [
    "%%time\n",
    "    \n",
    "oof_xgb_cox = np.zeros(len(train))\n",
    "pred_xgb_cox = np.zeros(len(test))\n",
    "\n",
    "for i, (train_index, test_index) in enumerate(kf.split(train, train['race_group'])):\n",
    "\n",
    "    print(\"#\"*25)\n",
    "    print(f\"### Fold {i+1}\")\n",
    "    print(\"#\"*25)\n",
    "    \n",
    "    X_train = train.loc[train_index,FEATURES].copy()\n",
    "    y_train = train.loc[train_index,\"CoxLoss\"]    \n",
    "    X_val = train.loc[test_index,FEATURES].copy()\n",
    "    y_val = train.loc[test_index,\"CoxLoss\"]\n",
    "    X_test = test[FEATURES].copy()\n",
    "\n",
    "    model_xgb_cox = XGBRegressor(**param_xgb_cox)\n",
    "    model_xgb_cox.fit(X_train, y_train, eval_set=[(X_val, y_val)], verbose=0)\n",
    "    \n",
    "    # INFER OOF\n",
    "    oof_xgb_cox[test_index] = model_xgb_cox.predict(X_val)\n",
    "    # INFER TEST\n",
    "    pred_xgb_cox += model_xgb_cox.predict(X_test)\n",
    "\n",
    "# COMPUTE AVERAGE TEST PREDS\n",
    "pred_xgb_cox /= FOLDS"
   ]
  },
  {
   "cell_type": "code",
   "execution_count": 26,
   "id": "d887d553",
   "metadata": {
    "execution": {
     "iopub.execute_input": "2025-01-27T09:17:42.630882Z",
     "iopub.status.busy": "2025-01-27T09:17:42.630530Z",
     "iopub.status.idle": "2025-01-27T09:17:43.012985Z",
     "shell.execute_reply": "2025-01-27T09:17:43.011559Z"
    },
    "papermill": {
     "duration": 0.401606,
     "end_time": "2025-01-27T09:17:43.014898",
     "exception": false,
     "start_time": "2025-01-27T09:17:42.613292",
     "status": "completed"
    },
    "tags": []
   },
   "outputs": [
    {
     "name": "stdout",
     "output_type": "stream",
     "text": [
      "CV for XGBoost Cox 0.6723004800255978\n"
     ]
    }
   ],
   "source": [
    "print('CV for XGBoost Cox', res(train, oof_xgb_cox))"
   ]
  },
  {
   "cell_type": "markdown",
   "id": "54eb8a59",
   "metadata": {
    "papermill": {
     "duration": 0.015816,
     "end_time": "2025-01-27T09:17:43.047268",
     "exception": false,
     "start_time": "2025-01-27T09:17:43.031452",
     "status": "completed"
    },
    "tags": []
   },
   "source": [
    "# CatBoost KaplanMeier"
   ]
  },
  {
   "cell_type": "code",
   "execution_count": 27,
   "id": "a1b0fed1",
   "metadata": {
    "execution": {
     "iopub.execute_input": "2025-01-27T09:17:43.081153Z",
     "iopub.status.busy": "2025-01-27T09:17:43.080793Z",
     "iopub.status.idle": "2025-01-27T09:17:43.771263Z",
     "shell.execute_reply": "2025-01-27T09:17:43.770155Z"
    },
    "papermill": {
     "duration": 0.709335,
     "end_time": "2025-01-27T09:17:43.772784",
     "exception": false,
     "start_time": "2025-01-27T09:17:43.063449",
     "status": "completed"
    },
    "tags": []
   },
   "outputs": [
    {
     "name": "stdout",
     "output_type": "stream",
     "text": [
      "Using CatBoost version 1.2.7\n"
     ]
    }
   ],
   "source": [
    "import catboost as cb\n",
    "from catboost import CatBoostRegressor\n",
    "import optuna\n",
    "print(\"Using CatBoost version\",cb.__version__)"
   ]
  },
  {
   "cell_type": "code",
   "execution_count": 28,
   "id": "42343a65",
   "metadata": {
    "execution": {
     "iopub.execute_input": "2025-01-27T09:17:43.808061Z",
     "iopub.status.busy": "2025-01-27T09:17:43.807684Z",
     "iopub.status.idle": "2025-01-27T10:10:40.161409Z",
     "shell.execute_reply": "2025-01-27T10:10:40.159886Z"
    },
    "papermill": {
     "duration": 3176.395768,
     "end_time": "2025-01-27T10:10:40.185272",
     "exception": false,
     "start_time": "2025-01-27T09:17:43.789504",
     "status": "completed"
    },
    "tags": []
   },
   "outputs": [
    {
     "name": "stdout",
     "output_type": "stream",
     "text": [
      "#########################\n",
      "### Fold 1\n",
      "#########################\n",
      "#########################\n",
      "### Fold 2\n",
      "#########################\n",
      "#########################\n",
      "### Fold 3\n",
      "#########################\n",
      "#########################\n",
      "### Fold 4\n",
      "#########################\n",
      "#########################\n",
      "### Fold 5\n",
      "#########################\n",
      "CPU times: user 2h 45min 25s, sys: 28min 5s, total: 3h 13min 31s\n",
      "Wall time: 52min 56s\n"
     ]
    }
   ],
   "source": [
    "%%time\n",
    "    \n",
    "oof_cat_km = np.zeros(len(train))\n",
    "pred_cat_km = np.zeros(len(test))\n",
    "\n",
    "for i, (train_index, test_index) in enumerate(kf.split(train, RACES)):\n",
    "\n",
    "    print(\"#\"*25)\n",
    "    print(f\"### Fold {i+1}\")\n",
    "    print(\"#\"*25)\n",
    "    \n",
    "    X_train = train.loc[train_index,FEATURES].copy()\n",
    "    y_train = train.loc[train_index,\"KaplanMeier\"]\n",
    "    X_val = train.loc[test_index,FEATURES].copy()\n",
    "    y_val = train.loc[test_index,\"KaplanMeier\"]\n",
    "    X_test = test[FEATURES].copy()\n",
    "\n",
    "\n",
    "    model_cat_km = CatBoostRegressor(**param_cat)\n",
    "    \n",
    "    model_cat_km.fit(X_train, y_train, eval_set=[(X_val, y_val)], cat_features=CATS, verbose=0, early_stopping_rounds=300)\n",
    "    \n",
    "    # INFER OOF\n",
    "    oof_cat_km[test_index] = model_cat_km.predict(X_val)\n",
    "    # INFER TEST\n",
    "    pred_cat_km += model_cat_km.predict(X_test)\n",
    "\n",
    "# COMPUTE AVERAGE TEST PREDS\n",
    "pred_cat_km /= FOLDS"
   ]
  },
  {
   "cell_type": "code",
   "execution_count": 29,
   "id": "d6f97f4a",
   "metadata": {
    "execution": {
     "iopub.execute_input": "2025-01-27T10:10:40.224371Z",
     "iopub.status.busy": "2025-01-27T10:10:40.223959Z",
     "iopub.status.idle": "2025-01-27T10:10:40.613025Z",
     "shell.execute_reply": "2025-01-27T10:10:40.611730Z"
    },
    "papermill": {
     "duration": 0.410433,
     "end_time": "2025-01-27T10:10:40.614915",
     "exception": false,
     "start_time": "2025-01-27T10:10:40.204482",
     "status": "completed"
    },
    "tags": []
   },
   "outputs": [
    {
     "name": "stdout",
     "output_type": "stream",
     "text": [
      "CV for CatBoost KaplanMeier 0.6742959314193937\n"
     ]
    }
   ],
   "source": [
    "print('CV for CatBoost KaplanMeier', res(train, oof_cat_km))"
   ]
  },
  {
   "cell_type": "markdown",
   "id": "a7d012f3",
   "metadata": {
    "papermill": {
     "duration": 0.018078,
     "end_time": "2025-01-27T10:10:40.651595",
     "exception": false,
     "start_time": "2025-01-27T10:10:40.633517",
     "status": "completed"
    },
    "tags": []
   },
   "source": [
    "# LightGBM KaplanMeier"
   ]
  },
  {
   "cell_type": "code",
   "execution_count": 30,
   "id": "8765889c",
   "metadata": {
    "execution": {
     "iopub.execute_input": "2025-01-27T10:10:40.688634Z",
     "iopub.status.busy": "2025-01-27T10:10:40.688196Z",
     "iopub.status.idle": "2025-01-27T10:10:43.265214Z",
     "shell.execute_reply": "2025-01-27T10:10:43.263702Z"
    },
    "papermill": {
     "duration": 2.598168,
     "end_time": "2025-01-27T10:10:43.267337",
     "exception": false,
     "start_time": "2025-01-27T10:10:40.669169",
     "status": "completed"
    },
    "tags": []
   },
   "outputs": [
    {
     "name": "stdout",
     "output_type": "stream",
     "text": [
      "Using LightGBM version 4.5.0\n"
     ]
    }
   ],
   "source": [
    "from lightgbm import LGBMRegressor\n",
    "import lightgbm as lgb\n",
    "print(\"Using LightGBM version\",lgb.__version__)"
   ]
  },
  {
   "cell_type": "code",
   "execution_count": 31,
   "id": "14902eaa",
   "metadata": {
    "execution": {
     "iopub.execute_input": "2025-01-27T10:10:43.307003Z",
     "iopub.status.busy": "2025-01-27T10:10:43.306074Z",
     "iopub.status.idle": "2025-01-27T10:16:09.427852Z",
     "shell.execute_reply": "2025-01-27T10:16:09.426527Z"
    },
    "papermill": {
     "duration": 326.16187,
     "end_time": "2025-01-27T10:16:09.448081",
     "exception": false,
     "start_time": "2025-01-27T10:10:43.286211",
     "status": "completed"
    },
    "tags": []
   },
   "outputs": [
    {
     "name": "stdout",
     "output_type": "stream",
     "text": [
      "#########################\n",
      "### Fold 1\n",
      "#########################\n",
      "#########################\n",
      "### Fold 2\n",
      "#########################\n",
      "#########################\n",
      "### Fold 3\n",
      "#########################\n",
      "#########################\n",
      "### Fold 4\n",
      "#########################\n",
      "#########################\n",
      "### Fold 5\n",
      "#########################\n",
      "CPU times: user 10min 38s, sys: 10.6 s, total: 10min 49s\n",
      "Wall time: 5min 26s\n"
     ]
    }
   ],
   "source": [
    "%%time\n",
    "\n",
    "\n",
    "    \n",
    "oof_lgb_km = np.zeros(len(train))\n",
    "pred_lgb_km = np.zeros(len(test))\n",
    "\n",
    "for i, (train_index, test_index) in enumerate(kf.split(train, RACES)):\n",
    "\n",
    "    print(\"#\"*25)\n",
    "    print(f\"### Fold {i+1}\")\n",
    "    print(\"#\"*25)\n",
    "    \n",
    "    X_train = train.loc[train_index,FEATURES].copy()\n",
    "    y_train = train.loc[train_index,\"KaplanMeier\"]\n",
    "    X_val = train.loc[test_index,FEATURES].copy()\n",
    "    y_val = train.loc[test_index,\"KaplanMeier\"]\n",
    "    X_test = test[FEATURES].copy()\n",
    "\n",
    "    model_lgb_km = LGBMRegressor(**param_lgb)\n",
    "    \n",
    "    model_lgb_km.fit(\n",
    "        X_train, y_train,\n",
    "        eval_set=[(X_val, y_val)],\n",
    "        eval_metric='rmse',\n",
    "        callbacks=[lgb.early_stopping(300, verbose=0), lgb.log_evaluation(0)]\n",
    "    )\n",
    "    \n",
    "    # INFER OOF\n",
    "    oof_lgb_km[test_index] = model_lgb_km.predict(X_val)\n",
    "    # INFER TEST\n",
    "    pred_lgb_km += model_lgb_km.predict(X_test)\n",
    "\n",
    "# COMPUTE AVERAGE TEST PREDS\n",
    "pred_lgb_km /= FOLDS"
   ]
  },
  {
   "cell_type": "code",
   "execution_count": 32,
   "id": "a5ce57a3",
   "metadata": {
    "execution": {
     "iopub.execute_input": "2025-01-27T10:16:09.487069Z",
     "iopub.status.busy": "2025-01-27T10:16:09.486604Z",
     "iopub.status.idle": "2025-01-27T10:16:09.877980Z",
     "shell.execute_reply": "2025-01-27T10:16:09.876567Z"
    },
    "papermill": {
     "duration": 0.413441,
     "end_time": "2025-01-27T10:16:09.880081",
     "exception": false,
     "start_time": "2025-01-27T10:16:09.466640",
     "status": "completed"
    },
    "tags": []
   },
   "outputs": [
    {
     "name": "stdout",
     "output_type": "stream",
     "text": [
      "CV for LightGBM KaplanMeier 0.6744433864941184\n"
     ]
    }
   ],
   "source": [
    "print('CV for LightGBM KaplanMeier', res(train, oof_lgb_km))"
   ]
  },
  {
   "cell_type": "markdown",
   "id": "977c24e5",
   "metadata": {
    "papermill": {
     "duration": 0.018071,
     "end_time": "2025-01-27T10:16:09.917374",
     "exception": false,
     "start_time": "2025-01-27T10:16:09.899303",
     "status": "completed"
    },
    "tags": []
   },
   "source": [
    "# CatBoost NelsonAalen"
   ]
  },
  {
   "cell_type": "code",
   "execution_count": 33,
   "id": "a784dba8",
   "metadata": {
    "execution": {
     "iopub.execute_input": "2025-01-27T10:16:09.957823Z",
     "iopub.status.busy": "2025-01-27T10:16:09.957290Z",
     "iopub.status.idle": "2025-01-27T11:04:00.048616Z",
     "shell.execute_reply": "2025-01-27T11:04:00.047473Z"
    },
    "papermill": {
     "duration": 2870.130809,
     "end_time": "2025-01-27T11:04:00.066669",
     "exception": false,
     "start_time": "2025-01-27T10:16:09.935860",
     "status": "completed"
    },
    "tags": []
   },
   "outputs": [
    {
     "name": "stdout",
     "output_type": "stream",
     "text": [
      "#########################\n",
      "### Fold 1\n",
      "#########################\n",
      "#########################\n",
      "### Fold 2\n",
      "#########################\n",
      "#########################\n",
      "### Fold 3\n",
      "#########################\n",
      "#########################\n",
      "### Fold 4\n",
      "#########################\n",
      "#########################\n",
      "### Fold 5\n",
      "#########################\n",
      "CPU times: user 2h 29min 43s, sys: 25min 6s, total: 2h 54min 49s\n",
      "Wall time: 47min 50s\n"
     ]
    }
   ],
   "source": [
    "%%time\n",
    "    \n",
    "oof_cat_na = np.zeros(len(train))\n",
    "pred_cat_na = np.zeros(len(test))\n",
    "\n",
    "for i, (train_index, test_index) in enumerate(kf.split(train, RACES)):\n",
    "\n",
    "    print(\"#\"*25)\n",
    "    print(f\"### Fold {i+1}\")\n",
    "    print(\"#\"*25)\n",
    "    \n",
    "    X_train = train.loc[train_index,FEATURES].copy()\n",
    "    y_train = train.loc[train_index,\"NelsonAalen\"]\n",
    "    X_val = train.loc[test_index,FEATURES].copy()\n",
    "    y_val = train.loc[test_index,\"NelsonAalen\"]\n",
    "    X_test = test[FEATURES].copy()\n",
    "\n",
    "    model_cat_na = CatBoostRegressor(**param_cat)\n",
    "    \n",
    "    model_cat_na.fit(X_train, y_train, eval_set=[(X_val, y_val)], cat_features=CATS, verbose=0, early_stopping_rounds=300)\n",
    "    \n",
    "    # INFER OOF\n",
    "    oof_cat_na[test_index] = model_cat_na.predict(X_val)\n",
    "    # INFER TEST\n",
    "    pred_cat_na += model_cat_na.predict(X_test)\n",
    "\n",
    "# COMPUTE AVERAGE TEST PREDS\n",
    "pred_cat_na /= FOLDS"
   ]
  },
  {
   "cell_type": "code",
   "execution_count": 34,
   "id": "386ef888",
   "metadata": {
    "execution": {
     "iopub.execute_input": "2025-01-27T11:04:00.103260Z",
     "iopub.status.busy": "2025-01-27T11:04:00.102889Z",
     "iopub.status.idle": "2025-01-27T11:04:00.504538Z",
     "shell.execute_reply": "2025-01-27T11:04:00.503328Z"
    },
    "papermill": {
     "duration": 0.422017,
     "end_time": "2025-01-27T11:04:00.506225",
     "exception": false,
     "start_time": "2025-01-27T11:04:00.084208",
     "status": "completed"
    },
    "tags": []
   },
   "outputs": [
    {
     "name": "stdout",
     "output_type": "stream",
     "text": [
      "CV for CatBoost NelsonAalen 0.6765293098604126\n"
     ]
    }
   ],
   "source": [
    "print('CV for CatBoost NelsonAalen', res(train, oof_cat_na))"
   ]
  },
  {
   "cell_type": "markdown",
   "id": "71fc3296",
   "metadata": {
    "papermill": {
     "duration": 0.017441,
     "end_time": "2025-01-27T11:04:00.543586",
     "exception": false,
     "start_time": "2025-01-27T11:04:00.526145",
     "status": "completed"
    },
    "tags": []
   },
   "source": [
    "# LightGBM NelsonAalen"
   ]
  },
  {
   "cell_type": "code",
   "execution_count": 35,
   "id": "7bddc005",
   "metadata": {
    "execution": {
     "iopub.execute_input": "2025-01-27T11:04:00.580130Z",
     "iopub.status.busy": "2025-01-27T11:04:00.579796Z",
     "iopub.status.idle": "2025-01-27T11:08:32.099424Z",
     "shell.execute_reply": "2025-01-27T11:08:32.098201Z"
    },
    "papermill": {
     "duration": 271.557717,
     "end_time": "2025-01-27T11:08:32.118818",
     "exception": false,
     "start_time": "2025-01-27T11:04:00.561101",
     "status": "completed"
    },
    "tags": []
   },
   "outputs": [
    {
     "name": "stdout",
     "output_type": "stream",
     "text": [
      "#########################\n",
      "### Fold 1\n",
      "#########################\n",
      "#########################\n",
      "### Fold 2\n",
      "#########################\n",
      "#########################\n",
      "### Fold 3\n",
      "#########################\n",
      "#########################\n",
      "### Fold 4\n",
      "#########################\n",
      "#########################\n",
      "### Fold 5\n",
      "#########################\n",
      "CPU times: user 8min 50s, sys: 10.8 s, total: 9min\n",
      "Wall time: 4min 31s\n"
     ]
    }
   ],
   "source": [
    "%%time\n",
    "    \n",
    "oof_lgb_na = np.zeros(len(train))\n",
    "pred_lgb_na = np.zeros(len(test))\n",
    "\n",
    "for i, (train_index, test_index) in enumerate(kf.split(train, RACES)):\n",
    "\n",
    "    print(\"#\"*25)\n",
    "    print(f\"### Fold {i+1}\")\n",
    "    print(\"#\"*25)\n",
    "    \n",
    "    X_train = train.loc[train_index,FEATURES].copy()\n",
    "    y_train = train.loc[train_index,\"NelsonAalen\"]\n",
    "    X_val = train.loc[test_index,FEATURES].copy()\n",
    "    y_val = train.loc[test_index,\"NelsonAalen\"]\n",
    "    X_test = test[FEATURES].copy()\n",
    "\n",
    "    model_lgb_na = LGBMRegressor(**param_lgb)\n",
    "    \n",
    "    model_lgb_na.fit(\n",
    "        X_train, y_train,\n",
    "        eval_set=[(X_val, y_val)],\n",
    "        eval_metric='rmse',\n",
    "        callbacks=[lgb.early_stopping(300, verbose=0), lgb.log_evaluation(0)]\n",
    "    )\n",
    "    \n",
    "    # INFER OOF\n",
    "    oof_lgb_na[test_index] = model_lgb_na.predict(X_val)\n",
    "    # INFER TEST\n",
    "    pred_lgb_na += model_lgb_na.predict(X_test)\n",
    "\n",
    "# COMPUTE AVERAGE TEST PREDS\n",
    "pred_lgb_na /= FOLDS"
   ]
  },
  {
   "cell_type": "code",
   "execution_count": 36,
   "id": "69f653ec",
   "metadata": {
    "execution": {
     "iopub.execute_input": "2025-01-27T11:08:32.156186Z",
     "iopub.status.busy": "2025-01-27T11:08:32.155853Z",
     "iopub.status.idle": "2025-01-27T11:08:32.535945Z",
     "shell.execute_reply": "2025-01-27T11:08:32.534972Z"
    },
    "papermill": {
     "duration": 0.400945,
     "end_time": "2025-01-27T11:08:32.537736",
     "exception": false,
     "start_time": "2025-01-27T11:08:32.136791",
     "status": "completed"
    },
    "tags": []
   },
   "outputs": [
    {
     "name": "stdout",
     "output_type": "stream",
     "text": [
      "CV for LightGBM NelsonAalen 0.6767590506625597\n"
     ]
    }
   ],
   "source": [
    "print('CV for LightGBM NelsonAalen', res(train, oof_lgb_na))"
   ]
  },
  {
   "cell_type": "markdown",
   "id": "1138443e",
   "metadata": {
    "papermill": {
     "duration": 0.018186,
     "end_time": "2025-01-27T11:08:32.574294",
     "exception": false,
     "start_time": "2025-01-27T11:08:32.556108",
     "status": "completed"
    },
    "tags": []
   },
   "source": [
    "# CatBoost CoxPH"
   ]
  },
  {
   "cell_type": "code",
   "execution_count": 37,
   "id": "f73430c4",
   "metadata": {
    "execution": {
     "iopub.execute_input": "2025-01-27T11:08:32.612801Z",
     "iopub.status.busy": "2025-01-27T11:08:32.612454Z",
     "iopub.status.idle": "2025-01-27T12:29:41.749716Z",
     "shell.execute_reply": "2025-01-27T12:29:41.748057Z"
    },
    "papermill": {
     "duration": 4869.18057,
     "end_time": "2025-01-27T12:29:41.773175",
     "exception": false,
     "start_time": "2025-01-27T11:08:32.592605",
     "status": "completed"
    },
    "tags": []
   },
   "outputs": [
    {
     "name": "stdout",
     "output_type": "stream",
     "text": [
      "#########################\n",
      "### Fold 1\n",
      "#########################\n",
      "#########################\n",
      "### Fold 2\n",
      "#########################\n",
      "#########################\n",
      "### Fold 3\n",
      "#########################\n",
      "#########################\n",
      "### Fold 4\n",
      "#########################\n",
      "#########################\n",
      "### Fold 5\n",
      "#########################\n",
      "CPU times: user 4h 11min 14s, sys: 44min 4s, total: 4h 55min 18s\n",
      "Wall time: 1h 21min 9s\n"
     ]
    }
   ],
   "source": [
    "%%time\n",
    "    \n",
    "oof_cat_coxph = np.zeros(len(train))\n",
    "pred_cat_coxph = np.zeros(len(test))\n",
    "\n",
    "for i, (train_index, test_index) in enumerate(kf.split(train, RACES)):\n",
    "\n",
    "    print(\"#\"*25)\n",
    "    print(f\"### Fold {i+1}\")\n",
    "    print(\"#\"*25)\n",
    "    \n",
    "    X_train = train.loc[train_index,FEATURES].copy()\n",
    "    y_train = train.loc[train_index,\"CoxPH\"]\n",
    "    X_val = train.loc[test_index,FEATURES].copy()\n",
    "    y_val = train.loc[test_index,\"CoxPH\"]\n",
    "    X_test = test[FEATURES].copy()\n",
    "\n",
    "    model_cat_coxph = CatBoostRegressor(**param_cat)\n",
    "    \n",
    "    model_cat_coxph.fit(X_train, y_train, eval_set=[(X_val, y_val)], cat_features=CATS, verbose=0, early_stopping_rounds=300)\n",
    "    \n",
    "    # INFER OOF\n",
    "    oof_cat_coxph[test_index] = model_cat_coxph.predict(X_val)\n",
    "    # INFER TEST\n",
    "    pred_cat_coxph += model_cat_coxph.predict(X_test)\n",
    "\n",
    "# COMPUTE AVERAGE TEST PREDS\n",
    "pred_cat_coxph /= FOLDS"
   ]
  },
  {
   "cell_type": "code",
   "execution_count": 38,
   "id": "7780afc4",
   "metadata": {
    "execution": {
     "iopub.execute_input": "2025-01-27T12:29:41.816716Z",
     "iopub.status.busy": "2025-01-27T12:29:41.816231Z",
     "iopub.status.idle": "2025-01-27T12:29:42.211917Z",
     "shell.execute_reply": "2025-01-27T12:29:42.210411Z"
    },
    "papermill": {
     "duration": 0.420677,
     "end_time": "2025-01-27T12:29:42.214177",
     "exception": false,
     "start_time": "2025-01-27T12:29:41.793500",
     "status": "completed"
    },
    "tags": []
   },
   "outputs": [
    {
     "name": "stdout",
     "output_type": "stream",
     "text": [
      "CV for CatBoost CoxPH 0.6607029561427864\n"
     ]
    }
   ],
   "source": [
    "print('CV for CatBoost CoxPH', res(train, oof_cat_coxph))"
   ]
  },
  {
   "cell_type": "markdown",
   "id": "eeef739f",
   "metadata": {
    "papermill": {
     "duration": 0.020243,
     "end_time": "2025-01-27T12:29:42.255551",
     "exception": false,
     "start_time": "2025-01-27T12:29:42.235308",
     "status": "completed"
    },
    "tags": []
   },
   "source": [
    "# LightGBM CoxPH"
   ]
  },
  {
   "cell_type": "code",
   "execution_count": 39,
   "id": "52d180d4",
   "metadata": {
    "execution": {
     "iopub.execute_input": "2025-01-27T12:29:42.297851Z",
     "iopub.status.busy": "2025-01-27T12:29:42.297318Z",
     "iopub.status.idle": "2025-01-27T12:35:26.598202Z",
     "shell.execute_reply": "2025-01-27T12:35:26.596838Z"
    },
    "papermill": {
     "duration": 344.345793,
     "end_time": "2025-01-27T12:35:26.621311",
     "exception": false,
     "start_time": "2025-01-27T12:29:42.275518",
     "status": "completed"
    },
    "tags": []
   },
   "outputs": [
    {
     "name": "stdout",
     "output_type": "stream",
     "text": [
      "#########################\n",
      "### Fold 1\n",
      "#########################\n",
      "#########################\n",
      "### Fold 2\n",
      "#########################\n",
      "#########################\n",
      "### Fold 3\n",
      "#########################\n",
      "#########################\n",
      "### Fold 4\n",
      "#########################\n",
      "#########################\n",
      "### Fold 5\n",
      "#########################\n",
      "CPU times: user 11min 14s, sys: 11.6 s, total: 11min 25s\n",
      "Wall time: 5min 44s\n"
     ]
    }
   ],
   "source": [
    "%%time\n",
    "    \n",
    "oof_lgb_coxph = np.zeros(len(train))\n",
    "pred_lgb_coxph = np.zeros(len(test))\n",
    "\n",
    "for i, (train_index, test_index) in enumerate(kf.split(train, RACES)):\n",
    "\n",
    "    print(\"#\"*25)\n",
    "    print(f\"### Fold {i+1}\")\n",
    "    print(\"#\"*25)\n",
    "    \n",
    "    X_train = train.loc[train_index,FEATURES].copy()\n",
    "    y_train = train.loc[train_index,\"CoxPH\"]\n",
    "    X_val = train.loc[test_index,FEATURES].copy()\n",
    "    y_val = train.loc[test_index,\"CoxPH\"]\n",
    "    X_test = test[FEATURES].copy()\n",
    "\n",
    "    model_lgb_coxph = LGBMRegressor(**param_lgb)\n",
    "    \n",
    "    model_lgb_coxph.fit(\n",
    "        X_train, y_train,\n",
    "        eval_set=[(X_val, y_val)],\n",
    "        eval_metric='rmse',\n",
    "        callbacks=[lgb.early_stopping(300, verbose=0), lgb.log_evaluation(0)]\n",
    "    )\n",
    "    \n",
    "    # INFER OOF\n",
    "    oof_lgb_coxph[test_index] = model_lgb_coxph.predict(X_val)\n",
    "    # INFER TEST\n",
    "    pred_lgb_coxph += model_lgb_coxph.predict(X_test)\n",
    "\n",
    "# COMPUTE AVERAGE TEST PREDS\n",
    "pred_lgb_coxph /= FOLDS"
   ]
  },
  {
   "cell_type": "code",
   "execution_count": 40,
   "id": "4699dfc7",
   "metadata": {
    "execution": {
     "iopub.execute_input": "2025-01-27T12:35:26.664697Z",
     "iopub.status.busy": "2025-01-27T12:35:26.664181Z",
     "iopub.status.idle": "2025-01-27T12:35:27.058429Z",
     "shell.execute_reply": "2025-01-27T12:35:27.057014Z"
    },
    "papermill": {
     "duration": 0.418021,
     "end_time": "2025-01-27T12:35:27.060579",
     "exception": false,
     "start_time": "2025-01-27T12:35:26.642558",
     "status": "completed"
    },
    "tags": []
   },
   "outputs": [
    {
     "name": "stdout",
     "output_type": "stream",
     "text": [
      "CV for LightGBM CoxPH 0.6599234209648115\n"
     ]
    }
   ],
   "source": [
    "print('CV for LightGBM CoxPH', res(train, oof_lgb_coxph))"
   ]
  },
  {
   "cell_type": "markdown",
   "id": "dbc01d15",
   "metadata": {
    "papermill": {
     "duration": 0.020274,
     "end_time": "2025-01-27T12:35:27.101573",
     "exception": false,
     "start_time": "2025-01-27T12:35:27.081299",
     "status": "completed"
    },
    "tags": []
   },
   "source": [
    "# CatBoost with Cox loss 1"
   ]
  },
  {
   "cell_type": "code",
   "execution_count": 41,
   "id": "8240cc8c",
   "metadata": {
    "execution": {
     "iopub.execute_input": "2025-01-27T12:35:27.145794Z",
     "iopub.status.busy": "2025-01-27T12:35:27.145292Z",
     "iopub.status.idle": "2025-01-27T12:44:58.001012Z",
     "shell.execute_reply": "2025-01-27T12:44:57.999516Z"
    },
    "papermill": {
     "duration": 570.902362,
     "end_time": "2025-01-27T12:44:58.024597",
     "exception": false,
     "start_time": "2025-01-27T12:35:27.122235",
     "status": "completed"
    },
    "tags": []
   },
   "outputs": [
    {
     "name": "stdout",
     "output_type": "stream",
     "text": [
      "#########################\n",
      "### Fold 1\n",
      "#########################\n",
      "#########################\n",
      "### Fold 2\n",
      "#########################\n",
      "#########################\n",
      "### Fold 3\n",
      "#########################\n",
      "#########################\n",
      "### Fold 4\n",
      "#########################\n",
      "#########################\n",
      "### Fold 5\n",
      "#########################\n",
      "CPU times: user 28min 54s, sys: 2min 25s, total: 31min 19s\n",
      "Wall time: 9min 30s\n"
     ]
    }
   ],
   "source": [
    "%%time\n",
    "    \n",
    "oof_cat_cox1 = np.zeros(len(train))\n",
    "pred_cat_cox1 = np.zeros(len(test))\n",
    "\n",
    "for i, (train_index, test_index) in enumerate(kf.split(train, RACES)):\n",
    "\n",
    "    print(\"#\"*25)\n",
    "    print(f\"### Fold {i+1}\")\n",
    "    print(\"#\"*25)\n",
    "    \n",
    "    X_train = train.loc[train_index,FEATURES].copy()\n",
    "    y_train = train.loc[train_index,\"CoxLoss\"]    \n",
    "    X_val = train.loc[test_index,FEATURES].copy()\n",
    "    y_val = train.loc[test_index,\"CoxLoss\"]\n",
    "    X_test = test[FEATURES].copy()\n",
    "\n",
    "    model_cat_cox1 = CatBoostRegressor(**param_cat_cox1)\n",
    "    \n",
    "    model_cat_cox1.fit(X_train, y_train, eval_set=[(X_val, y_val)], cat_features=CATS, verbose=0)\n",
    "    \n",
    "    # INFER OOF\n",
    "    oof_cat_cox1[test_index] = model_cat_cox1.predict(X_val)\n",
    "    # INFER TEST\n",
    "    pred_cat_cox1 += model_cat_cox1.predict(X_test)\n",
    "\n",
    "# COMPUTE AVERAGE TEST PREDS\n",
    "pred_cat_cox1 /= FOLDS"
   ]
  },
  {
   "cell_type": "code",
   "execution_count": 42,
   "id": "59cadcd4",
   "metadata": {
    "execution": {
     "iopub.execute_input": "2025-01-27T12:44:58.069951Z",
     "iopub.status.busy": "2025-01-27T12:44:58.069503Z",
     "iopub.status.idle": "2025-01-27T12:44:58.459750Z",
     "shell.execute_reply": "2025-01-27T12:44:58.458333Z"
    },
    "papermill": {
     "duration": 0.415132,
     "end_time": "2025-01-27T12:44:58.461770",
     "exception": false,
     "start_time": "2025-01-27T12:44:58.046638",
     "status": "completed"
    },
    "tags": []
   },
   "outputs": [
    {
     "name": "stdout",
     "output_type": "stream",
     "text": [
      "CV for CatBoost Cox1 0.6723494892653509\n"
     ]
    }
   ],
   "source": [
    "print('CV for CatBoost Cox1', res(train, oof_cat_cox1))"
   ]
  },
  {
   "cell_type": "markdown",
   "id": "7ea114b2",
   "metadata": {
    "papermill": {
     "duration": 0.020522,
     "end_time": "2025-01-27T12:44:58.503717",
     "exception": false,
     "start_time": "2025-01-27T12:44:58.483195",
     "status": "completed"
    },
    "tags": []
   },
   "source": [
    "# CatBoost with Cox Loss 2"
   ]
  },
  {
   "cell_type": "code",
   "execution_count": 43,
   "id": "15c4a7b1",
   "metadata": {
    "execution": {
     "iopub.execute_input": "2025-01-27T12:44:58.547597Z",
     "iopub.status.busy": "2025-01-27T12:44:58.547111Z",
     "iopub.status.idle": "2025-01-27T12:52:03.154718Z",
     "shell.execute_reply": "2025-01-27T12:52:03.153251Z"
    },
    "papermill": {
     "duration": 424.652483,
     "end_time": "2025-01-27T12:52:03.177377",
     "exception": false,
     "start_time": "2025-01-27T12:44:58.524894",
     "status": "completed"
    },
    "tags": []
   },
   "outputs": [
    {
     "name": "stdout",
     "output_type": "stream",
     "text": [
      "#########################\n",
      "### Fold 1\n",
      "#########################\n",
      "#########################\n",
      "### Fold 2\n",
      "#########################\n",
      "#########################\n",
      "### Fold 3\n",
      "#########################\n",
      "#########################\n",
      "### Fold 4\n",
      "#########################\n",
      "#########################\n",
      "### Fold 5\n",
      "#########################\n",
      "CPU times: user 20min 30s, sys: 1min 29s, total: 21min 59s\n",
      "Wall time: 7min 4s\n"
     ]
    }
   ],
   "source": [
    "%%time\n",
    "    \n",
    "oof_cat_cox2 = np.zeros(len(train))\n",
    "pred_cat_cox2 = np.zeros(len(test))\n",
    "\n",
    "for i, (train_index, test_index) in enumerate(kf.split(train, RACES)):\n",
    "\n",
    "    print(\"#\"*25)\n",
    "    print(f\"### Fold {i+1}\")\n",
    "    print(\"#\"*25)\n",
    "    \n",
    "    X_train = train.loc[train_index,FEATURES].copy()\n",
    "    y_train = train.loc[train_index,\"CoxLoss\"]    \n",
    "    X_val = train.loc[test_index,FEATURES].copy()\n",
    "    y_val = train.loc[test_index,\"CoxLoss\"]\n",
    "    X_test = test[FEATURES].copy()\n",
    "\n",
    "    model_cat_cox2 = CatBoostRegressor(**param_cat_cox2)\n",
    "    \n",
    "    model_cat_cox2.fit(X_train, y_train, eval_set=[(X_val, y_val)], cat_features=CATS, verbose=0)\n",
    "    \n",
    "    # INFER OOF\n",
    "    oof_cat_cox2[test_index] = model_cat_cox2.predict(X_val)\n",
    "    # INFER TEST\n",
    "    pred_cat_cox2 += model_cat_cox2.predict(X_test)\n",
    "\n",
    "# COMPUTE AVERAGE TEST PREDS\n",
    "pred_cat_cox2 /= FOLDS"
   ]
  },
  {
   "cell_type": "code",
   "execution_count": 44,
   "id": "abed0d0d",
   "metadata": {
    "execution": {
     "iopub.execute_input": "2025-01-27T12:52:03.223437Z",
     "iopub.status.busy": "2025-01-27T12:52:03.222966Z",
     "iopub.status.idle": "2025-01-27T12:52:03.614444Z",
     "shell.execute_reply": "2025-01-27T12:52:03.612929Z"
    },
    "papermill": {
     "duration": 0.418098,
     "end_time": "2025-01-27T12:52:03.616576",
     "exception": false,
     "start_time": "2025-01-27T12:52:03.198478",
     "status": "completed"
    },
    "tags": []
   },
   "outputs": [
    {
     "name": "stdout",
     "output_type": "stream",
     "text": [
      "CV for CatBoost Cox2 0.6720081213695862\n"
     ]
    }
   ],
   "source": [
    "print('CV for CatBoost Cox2', res(train, oof_cat_cox2))"
   ]
  },
  {
   "cell_type": "markdown",
   "id": "e89312a8",
   "metadata": {
    "papermill": {
     "duration": 0.021759,
     "end_time": "2025-01-27T12:52:03.660653",
     "exception": false,
     "start_time": "2025-01-27T12:52:03.638894",
     "status": "completed"
    },
    "tags": []
   },
   "source": [
    "# Resulting CV scores"
   ]
  },
  {
   "cell_type": "code",
   "execution_count": 45,
   "id": "cd121790",
   "metadata": {
    "execution": {
     "iopub.execute_input": "2025-01-27T12:52:03.706352Z",
     "iopub.status.busy": "2025-01-27T12:52:03.705920Z",
     "iopub.status.idle": "2025-01-27T12:52:08.336345Z",
     "shell.execute_reply": "2025-01-27T12:52:08.334910Z"
    },
    "papermill": {
     "duration": 4.655316,
     "end_time": "2025-01-27T12:52:08.338291",
     "exception": false,
     "start_time": "2025-01-27T12:52:03.682975",
     "status": "completed"
    },
    "tags": []
   },
   "outputs": [
    {
     "name": "stdout",
     "output_type": "stream",
     "text": [
      "##########\n",
      "RESULTS\n",
      "##########\n",
      "CV for CatBoost KaplanMeier 0.6742959314193937\n",
      "CV for XGBoost KaplanMeier  0.6746456133097669\n",
      "CV for LightGBM KaplanMeier 0.6744433864941184\n",
      "##########\n",
      "CV for CatBoost NelsonAalen 0.6765293098604126\n",
      "CV for XGBoost NelsonAalen  0.6775431349669581\n",
      "CV for LightGBM NelsonAalen 0.6767590506625597\n",
      "##########\n",
      "CV for CatBoost CoxPH       0.6607029561427864\n",
      "CV for XGBoost CoxPH        0.6611798737249636\n",
      "CV for LightGBM CoxPH       0.6599234209648115\n",
      "##########\n",
      "CV for CatBoost Cox Loss 1  0.6723494892653509\n",
      "CV for CatBoost Cox Loss 2  0.6720081213695862\n",
      "CV for XGBoost Cox Loss     0.6723004800255978\n"
     ]
    }
   ],
   "source": [
    "print(10 * '#')\n",
    "print('RESULTS')\n",
    "print(10 * '#')\n",
    "print('CV for CatBoost KaplanMeier', res(train, oof_cat_km))\n",
    "print('CV for XGBoost KaplanMeier ', res(train, oof_xgb_km))\n",
    "print('CV for LightGBM KaplanMeier', res(train, oof_lgb_km))\n",
    "print(10 * '#')\n",
    "print('CV for CatBoost NelsonAalen', res(train, oof_cat_na))\n",
    "print('CV for XGBoost NelsonAalen ', res(train, oof_xgb_na))\n",
    "print('CV for LightGBM NelsonAalen', res(train, oof_lgb_na))\n",
    "print(10 * '#')\n",
    "print('CV for CatBoost CoxPH      ', res(train, oof_cat_coxph))\n",
    "print('CV for XGBoost CoxPH       ', res(train, oof_xgb_coxph))\n",
    "print('CV for LightGBM CoxPH      ', res(train, oof_lgb_coxph))\n",
    "print(10 * '#')\n",
    "print('CV for CatBoost Cox Loss 1 ', res(train, oof_cat_cox1))\n",
    "print('CV for CatBoost Cox Loss 2 ', res(train, oof_cat_cox2))\n",
    "print('CV for XGBoost Cox Loss    ', res(train, oof_xgb_cox))"
   ]
  },
  {
   "cell_type": "markdown",
   "id": "ffd18603",
   "metadata": {
    "papermill": {
     "duration": 0.023827,
     "end_time": "2025-01-27T12:52:08.384908",
     "exception": false,
     "start_time": "2025-01-27T12:52:08.361081",
     "status": "completed"
    },
    "tags": []
   },
   "source": [
    "# HUGE FUCKING ENSEMBLING"
   ]
  },
  {
   "cell_type": "code",
   "execution_count": 46,
   "id": "e5a02011",
   "metadata": {
    "execution": {
     "iopub.execute_input": "2025-01-27T12:52:08.431330Z",
     "iopub.status.busy": "2025-01-27T12:52:08.430913Z",
     "iopub.status.idle": "2025-01-27T12:52:08.435637Z",
     "shell.execute_reply": "2025-01-27T12:52:08.434452Z"
    },
    "papermill": {
     "duration": 0.029892,
     "end_time": "2025-01-27T12:52:08.437467",
     "exception": false,
     "start_time": "2025-01-27T12:52:08.407575",
     "status": "completed"
    },
    "tags": []
   },
   "outputs": [],
   "source": [
    "from scipy.stats import rankdata"
   ]
  },
  {
   "cell_type": "code",
   "execution_count": 47,
   "id": "2112196b",
   "metadata": {
    "execution": {
     "iopub.execute_input": "2025-01-27T12:52:08.484061Z",
     "iopub.status.busy": "2025-01-27T12:52:08.483555Z",
     "iopub.status.idle": "2025-01-27T12:52:08.535832Z",
     "shell.execute_reply": "2025-01-27T12:52:08.534620Z"
    },
    "papermill": {
     "duration": 0.07799,
     "end_time": "2025-01-27T12:52:08.538316",
     "exception": false,
     "start_time": "2025-01-27T12:52:08.460326",
     "status": "completed"
    },
    "tags": []
   },
   "outputs": [],
   "source": [
    "models = [\n",
    "    rankdata(oof_cat_km),\n",
    "    rankdata(oof_xgb_km),\n",
    "    rankdata(oof_lgb_km),\n",
    "    rankdata(oof_cat_na),\n",
    "    rankdata(oof_xgb_na),\n",
    "    rankdata(oof_lgb_na),\n",
    "    rankdata(oof_cat_coxph),\n",
    "    rankdata(oof_xgb_coxph),\n",
    "    rankdata(oof_lgb_coxph),\n",
    "    rankdata(oof_cat_cox1),\n",
    "    rankdata(oof_cat_cox2),\n",
    "    rankdata(oof_xgb_cox),\n",
    "]"
   ]
  },
  {
   "cell_type": "code",
   "execution_count": 48,
   "id": "b3b23350",
   "metadata": {
    "execution": {
     "iopub.execute_input": "2025-01-27T12:52:08.584469Z",
     "iopub.status.busy": "2025-01-27T12:52:08.583989Z",
     "iopub.status.idle": "2025-01-27T12:52:08.591319Z",
     "shell.execute_reply": "2025-01-27T12:52:08.589986Z"
    },
    "papermill": {
     "duration": 0.032738,
     "end_time": "2025-01-27T12:52:08.593336",
     "exception": false,
     "start_time": "2025-01-27T12:52:08.560598",
     "status": "completed"
    },
    "tags": []
   },
   "outputs": [],
   "source": [
    "def objective(trial):\n",
    "    coefs = [\n",
    "        trial.suggest_int(\"cat_km\", 1, 10),\n",
    "        trial.suggest_int(\"xgb_km\", 1, 10),\n",
    "        trial.suggest_int(\"lgb_km\", 1, 10),\n",
    "        trial.suggest_int(\"cat_na\", 1, 10),\n",
    "        trial.suggest_int(\"xgb_na\", 1, 10),\n",
    "        trial.suggest_int(\"lgb_na\", 1, 10),\n",
    "        trial.suggest_int(\"cat_coxph\", 1, 10),\n",
    "        trial.suggest_int(\"xgb_coxph\", 1, 10),\n",
    "        trial.suggest_int(\"lgb_coxph\", 1, 10),\n",
    "        trial.suggest_int(\"cat_cox1\", 1, 10),\n",
    "        trial.suggest_int(\"cat_cox2\", 1, 10),\n",
    "        trial.suggest_int(\"xgb_cox\", 1, 10),\n",
    "    ]\n",
    "\n",
    "    preds = 0\n",
    "    \n",
    "    for coef, model in zip(coefs, models):\n",
    "        preds += coef * model\n",
    "    return res(train, preds)"
   ]
  },
  {
   "cell_type": "code",
   "execution_count": 49,
   "id": "f7d77dbc",
   "metadata": {
    "execution": {
     "iopub.execute_input": "2025-01-27T12:52:08.642775Z",
     "iopub.status.busy": "2025-01-27T12:52:08.642146Z",
     "iopub.status.idle": "2025-01-27T13:14:10.105513Z",
     "shell.execute_reply": "2025-01-27T13:14:10.104297Z"
    },
    "papermill": {
     "duration": 1321.490647,
     "end_time": "2025-01-27T13:14:10.107192",
     "exception": false,
     "start_time": "2025-01-27T12:52:08.616545",
     "status": "completed"
    },
    "tags": []
   },
   "outputs": [
    {
     "name": "stderr",
     "output_type": "stream",
     "text": [
      "[I 2025-01-27 12:52:08,645] A new study created in memory with name: no-name-d05e0177-0afa-4508-afd9-46a5870bdcd8\n"
     ]
    },
    {
     "data": {
      "application/vnd.jupyter.widget-view+json": {
       "model_id": "b5f6a214e33e48438ba98032f347f814",
       "version_major": 2,
       "version_minor": 0
      },
      "text/plain": [
       "  0%|          | 0/2000 [00:00<?, ?it/s]"
      ]
     },
     "metadata": {},
     "output_type": "display_data"
    }
   ],
   "source": [
    "study = optuna.create_study(direction=\"maximize\")\n",
    "optuna.logging.set_verbosity(optuna.logging.WARNING)\n",
    "study.optimize(objective, n_trials=2000, show_progress_bar=True)"
   ]
  },
  {
   "cell_type": "code",
   "execution_count": 50,
   "id": "ded148b0",
   "metadata": {
    "execution": {
     "iopub.execute_input": "2025-01-27T13:14:10.154323Z",
     "iopub.status.busy": "2025-01-27T13:14:10.153866Z",
     "iopub.status.idle": "2025-01-27T13:14:10.162978Z",
     "shell.execute_reply": "2025-01-27T13:14:10.161994Z"
    },
    "papermill": {
     "duration": 0.03474,
     "end_time": "2025-01-27T13:14:10.164609",
     "exception": false,
     "start_time": "2025-01-27T13:14:10.129869",
     "status": "completed"
    },
    "tags": []
   },
   "outputs": [
    {
     "name": "stdout",
     "output_type": "stream",
     "text": [
      "Best trial:\n",
      "  Value: 0.6819545763716988\n",
      "  Coefs: \n",
      "    cat_km: 10\n",
      "    xgb_km: 3\n",
      "    lgb_km: 9\n",
      "    cat_na: 8\n",
      "    xgb_na: 10\n",
      "    lgb_na: 1\n",
      "    cat_coxph: 2\n",
      "    xgb_coxph: 9\n",
      "    lgb_coxph: 1\n",
      "    cat_cox1: 4\n",
      "    cat_cox2: 3\n",
      "    xgb_cox: 7\n"
     ]
    }
   ],
   "source": [
    "print(\"Best trial:\")\n",
    "trial = study.best_trial\n",
    "coefs = trial.params.values()\n",
    "\n",
    "print(\"  Value: {}\".format(trial.value))\n",
    "\n",
    "print(\"  Coefs: \")\n",
    "for key, value in trial.params.items():\n",
    "    print(\"    {}: {}\".format(key, value))"
   ]
  },
  {
   "cell_type": "markdown",
   "id": "6c7b2162",
   "metadata": {
    "papermill": {
     "duration": 0.022913,
     "end_time": "2025-01-27T13:14:10.209970",
     "exception": false,
     "start_time": "2025-01-27T13:14:10.187057",
     "status": "completed"
    },
    "tags": []
   },
   "source": [
    "# Making submission"
   ]
  },
  {
   "cell_type": "code",
   "execution_count": 51,
   "id": "9d4b7286",
   "metadata": {
    "execution": {
     "iopub.execute_input": "2025-01-27T13:14:10.258168Z",
     "iopub.status.busy": "2025-01-27T13:14:10.257732Z",
     "iopub.status.idle": "2025-01-27T13:14:10.266034Z",
     "shell.execute_reply": "2025-01-27T13:14:10.264847Z"
    },
    "papermill": {
     "duration": 0.035004,
     "end_time": "2025-01-27T13:14:10.267992",
     "exception": false,
     "start_time": "2025-01-27T13:14:10.232988",
     "status": "completed"
    },
    "tags": []
   },
   "outputs": [],
   "source": [
    "pred_models = [\n",
    "    rankdata(pred_cat_km),\n",
    "    rankdata(pred_xgb_km),\n",
    "    rankdata(pred_lgb_km),\n",
    "    rankdata(pred_cat_na),\n",
    "    rankdata(pred_xgb_na),\n",
    "    rankdata(pred_lgb_na),\n",
    "    rankdata(pred_cat_coxph),\n",
    "    rankdata(pred_xgb_coxph),\n",
    "    rankdata(pred_lgb_coxph),\n",
    "    rankdata(pred_cat_cox1),\n",
    "    rankdata(pred_cat_cox2), \n",
    "    rankdata(pred_xgb_cox)\n",
    "]"
   ]
  },
  {
   "cell_type": "code",
   "execution_count": 52,
   "id": "358a90ed",
   "metadata": {
    "execution": {
     "iopub.execute_input": "2025-01-27T13:14:10.333200Z",
     "iopub.status.busy": "2025-01-27T13:14:10.332768Z",
     "iopub.status.idle": "2025-01-27T13:14:10.343687Z",
     "shell.execute_reply": "2025-01-27T13:14:10.342605Z"
    },
    "papermill": {
     "duration": 0.048708,
     "end_time": "2025-01-27T13:14:10.345851",
     "exception": false,
     "start_time": "2025-01-27T13:14:10.297143",
     "status": "completed"
    },
    "tags": []
   },
   "outputs": [],
   "source": [
    "ids = test['ID']\n",
    "preds = 0    \n",
    "for coef, model in zip(coefs, pred_models):\n",
    "        preds += coef * model\n",
    "\n",
    "output = pd.DataFrame(data={'ID': ids, 'prediction': preds})\n",
    "output.to_csv('submission.csv', index=False)"
   ]
  }
 ],
 "metadata": {
  "kaggle": {
   "accelerator": "none",
   "dataSources": [
    {
     "databundleVersionId": 10381525,
     "sourceId": 70942,
     "sourceType": "competition"
    },
    {
     "sourceId": 211253469,
     "sourceType": "kernelVersion"
    },
    {
     "sourceId": 211322530,
     "sourceType": "kernelVersion"
    }
   ],
   "dockerImageVersionId": 30822,
   "isGpuEnabled": false,
   "isInternetEnabled": false,
   "language": "python",
   "sourceType": "notebook"
  },
  "kernelspec": {
   "display_name": "Python 3",
   "language": "python",
   "name": "python3"
  },
  "language_info": {
   "codemirror_mode": {
    "name": "ipython",
    "version": 3
   },
   "file_extension": ".py",
   "mimetype": "text/x-python",
   "name": "python",
   "nbconvert_exporter": "python",
   "pygments_lexer": "ipython3",
   "version": "3.10.12"
  },
  "papermill": {
   "default_parameters": {},
   "duration": 15006.717117,
   "end_time": "2025-01-27T13:14:12.118774",
   "environment_variables": {},
   "exception": null,
   "input_path": "__notebook__.ipynb",
   "output_path": "__notebook__.ipynb",
   "parameters": {},
   "start_time": "2025-01-27T09:04:05.401657",
   "version": "2.6.0"
  },
  "widgets": {
   "application/vnd.jupyter.widget-state+json": {
    "state": {
     "0e1d6f9a54a34149b4d3d10e45fddaf3": {
      "model_module": "@jupyter-widgets/base",
      "model_module_version": "2.0.0",
      "model_name": "LayoutModel",
      "state": {
       "_model_module": "@jupyter-widgets/base",
       "_model_module_version": "2.0.0",
       "_model_name": "LayoutModel",
       "_view_count": null,
       "_view_module": "@jupyter-widgets/base",
       "_view_module_version": "2.0.0",
       "_view_name": "LayoutView",
       "align_content": null,
       "align_items": null,
       "align_self": null,
       "border_bottom": null,
       "border_left": null,
       "border_right": null,
       "border_top": null,
       "bottom": null,
       "display": null,
       "flex": null,
       "flex_flow": null,
       "grid_area": null,
       "grid_auto_columns": null,
       "grid_auto_flow": null,
       "grid_auto_rows": null,
       "grid_column": null,
       "grid_gap": null,
       "grid_row": null,
       "grid_template_areas": null,
       "grid_template_columns": null,
       "grid_template_rows": null,
       "height": null,
       "justify_content": null,
       "justify_items": null,
       "left": null,
       "margin": null,
       "max_height": null,
       "max_width": null,
       "min_height": null,
       "min_width": null,
       "object_fit": null,
       "object_position": null,
       "order": null,
       "overflow": null,
       "padding": null,
       "right": null,
       "top": null,
       "visibility": null,
       "width": null
      }
     },
     "1a5d972670ea4a8e81813e7361095697": {
      "model_module": "@jupyter-widgets/base",
      "model_module_version": "2.0.0",
      "model_name": "LayoutModel",
      "state": {
       "_model_module": "@jupyter-widgets/base",
       "_model_module_version": "2.0.0",
       "_model_name": "LayoutModel",
       "_view_count": null,
       "_view_module": "@jupyter-widgets/base",
       "_view_module_version": "2.0.0",
       "_view_name": "LayoutView",
       "align_content": null,
       "align_items": null,
       "align_self": null,
       "border_bottom": null,
       "border_left": null,
       "border_right": null,
       "border_top": null,
       "bottom": null,
       "display": null,
       "flex": null,
       "flex_flow": null,
       "grid_area": null,
       "grid_auto_columns": null,
       "grid_auto_flow": null,
       "grid_auto_rows": null,
       "grid_column": null,
       "grid_gap": null,
       "grid_row": null,
       "grid_template_areas": null,
       "grid_template_columns": null,
       "grid_template_rows": null,
       "height": null,
       "justify_content": null,
       "justify_items": null,
       "left": null,
       "margin": null,
       "max_height": null,
       "max_width": null,
       "min_height": null,
       "min_width": null,
       "object_fit": null,
       "object_position": null,
       "order": null,
       "overflow": null,
       "padding": null,
       "right": null,
       "top": null,
       "visibility": null,
       "width": null
      }
     },
     "4cf035df500b4e1cbc259d427b2ee27e": {
      "model_module": "@jupyter-widgets/controls",
      "model_module_version": "2.0.0",
      "model_name": "FloatProgressModel",
      "state": {
       "_dom_classes": [],
       "_model_module": "@jupyter-widgets/controls",
       "_model_module_version": "2.0.0",
       "_model_name": "FloatProgressModel",
       "_view_count": null,
       "_view_module": "@jupyter-widgets/controls",
       "_view_module_version": "2.0.0",
       "_view_name": "ProgressView",
       "bar_style": "success",
       "description": "",
       "description_allow_html": false,
       "layout": "IPY_MODEL_ee7d88e9dc974324a01efecefd501eb8",
       "max": 2000.0,
       "min": 0.0,
       "orientation": "horizontal",
       "style": "IPY_MODEL_e43fe7f0e1cd4f39b4130491426e1b4a",
       "tabbable": null,
       "tooltip": null,
       "value": 2000.0
      }
     },
     "714a560e5d4d48c8b8507f34caddd559": {
      "model_module": "@jupyter-widgets/base",
      "model_module_version": "2.0.0",
      "model_name": "LayoutModel",
      "state": {
       "_model_module": "@jupyter-widgets/base",
       "_model_module_version": "2.0.0",
       "_model_name": "LayoutModel",
       "_view_count": null,
       "_view_module": "@jupyter-widgets/base",
       "_view_module_version": "2.0.0",
       "_view_name": "LayoutView",
       "align_content": null,
       "align_items": null,
       "align_self": null,
       "border_bottom": null,
       "border_left": null,
       "border_right": null,
       "border_top": null,
       "bottom": null,
       "display": null,
       "flex": null,
       "flex_flow": null,
       "grid_area": null,
       "grid_auto_columns": null,
       "grid_auto_flow": null,
       "grid_auto_rows": null,
       "grid_column": null,
       "grid_gap": null,
       "grid_row": null,
       "grid_template_areas": null,
       "grid_template_columns": null,
       "grid_template_rows": null,
       "height": null,
       "justify_content": null,
       "justify_items": null,
       "left": null,
       "margin": null,
       "max_height": null,
       "max_width": null,
       "min_height": null,
       "min_width": null,
       "object_fit": null,
       "object_position": null,
       "order": null,
       "overflow": null,
       "padding": null,
       "right": null,
       "top": null,
       "visibility": null,
       "width": null
      }
     },
     "737e0a3fd6354ea7998371a4ff3274c3": {
      "model_module": "@jupyter-widgets/controls",
      "model_module_version": "2.0.0",
      "model_name": "HTMLStyleModel",
      "state": {
       "_model_module": "@jupyter-widgets/controls",
       "_model_module_version": "2.0.0",
       "_model_name": "HTMLStyleModel",
       "_view_count": null,
       "_view_module": "@jupyter-widgets/base",
       "_view_module_version": "2.0.0",
       "_view_name": "StyleView",
       "background": null,
       "description_width": "",
       "font_size": null,
       "text_color": null
      }
     },
     "76f85a3259514ca68c77a35325c546ac": {
      "model_module": "@jupyter-widgets/controls",
      "model_module_version": "2.0.0",
      "model_name": "HTMLModel",
      "state": {
       "_dom_classes": [],
       "_model_module": "@jupyter-widgets/controls",
       "_model_module_version": "2.0.0",
       "_model_name": "HTMLModel",
       "_view_count": null,
       "_view_module": "@jupyter-widgets/controls",
       "_view_module_version": "2.0.0",
       "_view_name": "HTMLView",
       "description": "",
       "description_allow_html": false,
       "layout": "IPY_MODEL_0e1d6f9a54a34149b4d3d10e45fddaf3",
       "placeholder": "​",
       "style": "IPY_MODEL_737e0a3fd6354ea7998371a4ff3274c3",
       "tabbable": null,
       "tooltip": null,
       "value": " 2000/2000 [22:01&lt;00:00,  1.17it/s]"
      }
     },
     "b5f6a214e33e48438ba98032f347f814": {
      "model_module": "@jupyter-widgets/controls",
      "model_module_version": "2.0.0",
      "model_name": "HBoxModel",
      "state": {
       "_dom_classes": [],
       "_model_module": "@jupyter-widgets/controls",
       "_model_module_version": "2.0.0",
       "_model_name": "HBoxModel",
       "_view_count": null,
       "_view_module": "@jupyter-widgets/controls",
       "_view_module_version": "2.0.0",
       "_view_name": "HBoxView",
       "box_style": "",
       "children": [
        "IPY_MODEL_e0e33a7f0fbf4c2e90f1dd91392fced9",
        "IPY_MODEL_4cf035df500b4e1cbc259d427b2ee27e",
        "IPY_MODEL_76f85a3259514ca68c77a35325c546ac"
       ],
       "layout": "IPY_MODEL_714a560e5d4d48c8b8507f34caddd559",
       "tabbable": null,
       "tooltip": null
      }
     },
     "d3413fdf81994337b9df5ca4fed00327": {
      "model_module": "@jupyter-widgets/controls",
      "model_module_version": "2.0.0",
      "model_name": "HTMLStyleModel",
      "state": {
       "_model_module": "@jupyter-widgets/controls",
       "_model_module_version": "2.0.0",
       "_model_name": "HTMLStyleModel",
       "_view_count": null,
       "_view_module": "@jupyter-widgets/base",
       "_view_module_version": "2.0.0",
       "_view_name": "StyleView",
       "background": null,
       "description_width": "",
       "font_size": null,
       "text_color": null
      }
     },
     "e0e33a7f0fbf4c2e90f1dd91392fced9": {
      "model_module": "@jupyter-widgets/controls",
      "model_module_version": "2.0.0",
      "model_name": "HTMLModel",
      "state": {
       "_dom_classes": [],
       "_model_module": "@jupyter-widgets/controls",
       "_model_module_version": "2.0.0",
       "_model_name": "HTMLModel",
       "_view_count": null,
       "_view_module": "@jupyter-widgets/controls",
       "_view_module_version": "2.0.0",
       "_view_name": "HTMLView",
       "description": "",
       "description_allow_html": false,
       "layout": "IPY_MODEL_1a5d972670ea4a8e81813e7361095697",
       "placeholder": "​",
       "style": "IPY_MODEL_d3413fdf81994337b9df5ca4fed00327",
       "tabbable": null,
       "tooltip": null,
       "value": "Best trial: 1966. Best value: 0.681955: 100%"
      }
     },
     "e43fe7f0e1cd4f39b4130491426e1b4a": {
      "model_module": "@jupyter-widgets/controls",
      "model_module_version": "2.0.0",
      "model_name": "ProgressStyleModel",
      "state": {
       "_model_module": "@jupyter-widgets/controls",
       "_model_module_version": "2.0.0",
       "_model_name": "ProgressStyleModel",
       "_view_count": null,
       "_view_module": "@jupyter-widgets/base",
       "_view_module_version": "2.0.0",
       "_view_name": "StyleView",
       "bar_color": null,
       "description_width": ""
      }
     },
     "ee7d88e9dc974324a01efecefd501eb8": {
      "model_module": "@jupyter-widgets/base",
      "model_module_version": "2.0.0",
      "model_name": "LayoutModel",
      "state": {
       "_model_module": "@jupyter-widgets/base",
       "_model_module_version": "2.0.0",
       "_model_name": "LayoutModel",
       "_view_count": null,
       "_view_module": "@jupyter-widgets/base",
       "_view_module_version": "2.0.0",
       "_view_name": "LayoutView",
       "align_content": null,
       "align_items": null,
       "align_self": null,
       "border_bottom": null,
       "border_left": null,
       "border_right": null,
       "border_top": null,
       "bottom": null,
       "display": null,
       "flex": null,
       "flex_flow": null,
       "grid_area": null,
       "grid_auto_columns": null,
       "grid_auto_flow": null,
       "grid_auto_rows": null,
       "grid_column": null,
       "grid_gap": null,
       "grid_row": null,
       "grid_template_areas": null,
       "grid_template_columns": null,
       "grid_template_rows": null,
       "height": null,
       "justify_content": null,
       "justify_items": null,
       "left": null,
       "margin": null,
       "max_height": null,
       "max_width": null,
       "min_height": null,
       "min_width": null,
       "object_fit": null,
       "object_position": null,
       "order": null,
       "overflow": null,
       "padding": null,
       "right": null,
       "top": null,
       "visibility": null,
       "width": null
      }
     }
    },
    "version_major": 2,
    "version_minor": 0
   }
  }
 },
 "nbformat": 4,
 "nbformat_minor": 5
}
